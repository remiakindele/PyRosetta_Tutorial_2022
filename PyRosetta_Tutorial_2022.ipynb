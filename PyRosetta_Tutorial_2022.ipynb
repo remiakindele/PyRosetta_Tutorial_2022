{
  "nbformat": 4,
  "nbformat_minor": 0,
  "metadata": {
    "colab": {
      "provenance": []
    },
    "kernelspec": {
      "name": "python3",
      "display_name": "Python 3"
    },
    "language_info": {
      "name": "python"
    }
  },
  "cells": [
    {
      "cell_type": "markdown",
      "source": [
        "# **20.420 PyRosetta Tutorial and Workshop**\n",
        "## Date: TBD\n",
        "### Updated September 1, 2022 by Remi Akindele\n",
        "\n",
        "\n",
        "---\n",
        "\n",
        "\n",
        "\n",
        "Original version of workshop found here: https://github.com/PatrickHolec/Pyrosetta_Tutorial_20420\n",
        " \n",
        "\n",
        "---"
      ],
      "metadata": {
        "id": "N-lhiBf4Ro1d"
      }
    },
    {
      "cell_type": "markdown",
      "source": [
        "#**0. Before You Start:**"
      ],
      "metadata": {
        "id": "2mv4NB6XAjp_"
      }
    },
    {
      "cell_type": "markdown",
      "source": [
        "1. File -> Save a copy in Drive\n",
        "2. Rename the file to \"LastName_FirstName_PyRosetta_Tutorial.ipynb\" (replacing with your name)\n",
        "3. Make sure you are running Python 3 by clicking \"Runtime\" -> \"Change runtime type\" -> \"Python 3\"\n",
        "  *   If no option for Python 3 comes up, you are probably running it correctly.\n",
        "  *   Hover over the Ram and Disk bar graphs in the top right corner next to \"Editing\" and you should see:\n",
        "  \n",
        "    \"Connected to Python 3...\"\n",
        "\n",
        "  *   If there are no Ram and Disk bar graphs in the top right corner next to \"Editing\", click the \"Connect\" button that is there instead. Then repeat the previous \"Hover...\" step.\n",
        "\n",
        "\n",
        "\n",
        "**Tip:**\n",
        "\n",
        "When you use this template for the Protein Design Project, I recommend copying your completed \"LastName_FirstName_PyRosetta_Tutorial.ipynb\" file and saving the original as a reference in case something goes wrong with the new one.\n",
        "\n",
        "**Now you can start the Tutorial!**\n",
        "\n",
        "\n",
        "---\n",
        "\n"
      ],
      "metadata": {
        "id": "G2IqFmjiArIG"
      }
    },
    {
      "cell_type": "markdown",
      "source": [
        "# **1. Set Up PyRosetta:**\n",
        "\n",
        "Here, you'll learn to:\n",
        "*   **Mount** the Drive to Colaboratory\n",
        "*   **Download** the PyRosetta zip file\n",
        "*   **Unzip** PyRosetta\n",
        "*   **Install** PyRosetta\n"
      ],
      "metadata": {
        "id": "cf2hSkSLBBFX"
      }
    },
    {
      "cell_type": "markdown",
      "source": [
        "####**1.1. Mount Google Drive**\n",
        "  Run Code Block #1.1.\n",
        "\n",
        "  ***First time through***: Mount Google drive to avoid having to re-download the PyRosetta package. Mount before you download PyRosetta. \n",
        "\n",
        "  ***Later uses of the notebook***: In the event you disconnect from Colab after the first download, you can mount to your Google drive again and skip the the download step (Code Block #1.2).\n"
      ],
      "metadata": {
        "id": "TuWC9R_cBWgH"
      }
    },
    {
      "cell_type": "code",
      "source": [
        "# Code Block #1.1: Mount your Drive\n",
        "\n",
        "from google.colab import drive\n",
        "from google.colab import files\n",
        "import os\n",
        "\n",
        "os.chdir('/content/')\n",
        "print(os.getcwd())\n",
        "\n",
        "#drive.mount('/content/gdrive')\n",
        "#drive.mount('/content/google_drive')"
      ],
      "metadata": {
        "colab": {
          "base_uri": "https://localhost:8080/"
        },
        "id": "53TSfYillKEE",
        "outputId": "5b6ef5ff-9cd1-4303-8e3a-efd68b7bb027"
      },
      "execution_count": 1,
      "outputs": [
        {
          "output_type": "stream",
          "name": "stdout",
          "text": [
            "/content\n"
          ]
        }
      ]
    },
    {
      "cell_type": "markdown",
      "source": [
        "####**1.2.  Download, Install, and Import PyRosetta for use in Colab**\n",
        "\n",
        "Step 1: Get your PyRosetta license. Go to https://www.pyrosetta.org/home/licensing-pyrosetta for more information.\n",
        " \n",
        " \n",
        "Step 2: Run Code Block #1.2. to install and import PyRosetta. It will ask you to copy and paste a code to authorize. \n",
        "\n",
        "\n",
        "> The RC license usercode: levinthal\n",
        ">\n",
        "> The RC license password: paradox\n",
        "\n",
        "\n",
        "\n",
        " You will also need to type your PyRosetta license information. Note: It will take ~10 mins to run, but you only need to do this once.\n",
        "\n",
        "\n",
        "  \\***You only have to do this once!**\\* Skip this step after you've downloaded it once and mounted to the Google Drive.\n"
      ],
      "metadata": {
        "id": "5WOdv4udBi6L"
      }
    },
    {
      "cell_type": "markdown",
      "source": [
        " The output for a successfully downloaded file will contain text roughly like this: \n",
        "    \n",
        "    PyRosetta-4 2022 [Rosetta PyRosetta4.MinSizeRel.python37.ubuntu 2022.34+release.9ec33c9fe00427e5b1b0393e84cd8062c07f104c 2022-08-24T09:49:27] retrieved from: http://www.pyrosetta.org\n",
        "(C) Copyright Rosetta Commons Member Institutions. Created in JHU by Sergey Lyskov and PyRosetta Team.\n",
        "core.init: Checking for fconfig files in pwd and ./rosetta/flags\n",
        "core.init: Rosetta version: PyRosetta4.MinSizeRel.python37.ubuntu r328 2022.34+release.9ec33c9fe00 9ec33c9fe00427e5b1b0393e84cd8062c07f104c http://www.pyrosetta.org 2022-08-24T09:49:27\n",
        "core.init: command: PyRosetta -ex1 -ex2aro -database /usr/local/lib/python3.7/dist-packages/pyrosetta/database\n",
        "basic.random.init_random_generator: 'RNG device' seed mode, using '/dev/urandom', seed=-582725582 seed_offset=0 real_seed=-582725582\n",
        "basic.random.init_random_generator: RandomGenerator:init: Normal mode, seed=-582725582 RG_type=mt19937"
      ],
      "metadata": {
        "id": "hAuVXDt7D-Qb"
      }
    },
    {
      "cell_type": "code",
      "execution_count": 2,
      "metadata": {
        "colab": {
          "base_uri": "https://localhost:8080/"
        },
        "id": "acFo6NJ4iFDN",
        "outputId": "e30baf38-7193-4606-e2e6-119428ee9e8f"
      },
      "outputs": [
        {
          "output_type": "stream",
          "name": "stdout",
          "text": [
            "Looking in indexes: https://pypi.org/simple, https://us-python.pkg.dev/colab-wheels/public/simple/\n",
            "Requirement already satisfied: pyrosettacolabsetup in /usr/local/lib/python3.7/dist-packages (1.0.6)\n",
            "PyRosetta-4 2022 [Rosetta PyRosetta4.MinSizeRel.python37.ubuntu 2022.34+release.9ec33c9fe00427e5b1b0393e84cd8062c07f104c 2022-08-24T09:49:27] retrieved from: http://www.pyrosetta.org\n",
            "(C) Copyright Rosetta Commons Member Institutions. Created in JHU by Sergey Lyskov and PyRosetta Team.\n",
            "core.init: Checking for fconfig files in pwd and ./rosetta/flags\n",
            "core.init: Rosetta version: PyRosetta4.MinSizeRel.python37.ubuntu r328 2022.34+release.9ec33c9fe00 9ec33c9fe00427e5b1b0393e84cd8062c07f104c http://www.pyrosetta.org 2022-08-24T09:49:27\n",
            "core.init: command: PyRosetta -ex1 -ex2aro -database /usr/local/lib/python3.7/dist-packages/pyrosetta/database\n",
            "basic.random.init_random_generator: 'RNG device' seed mode, using '/dev/urandom', seed=341449086 seed_offset=0 real_seed=341449086\n",
            "basic.random.init_random_generator: RandomGenerator:init: Normal mode, seed=341449086 RG_type=mt19937\n"
          ]
        }
      ],
      "source": [
        "# Code Block #1.2: Download, Install, and Setup PyRosetta\n",
        "\n",
        "!pip install pyrosettacolabsetup\n",
        "import pyrosettacolabsetup; pyrosettacolabsetup.install_pyrosetta()\n",
        "import pyrosetta; pyrosetta.init()"
      ]
    },
    {
      "cell_type": "markdown",
      "source": [
        "Now that you've completed the installation, you can use PyRosetta in any Colab notebook by running the following lines of code:"
      ],
      "metadata": {
        "id": "UKfGBACRifsy"
      }
    },
    {
      "cell_type": "code",
      "source": [
        "!pip install pyrosettacolabsetup\n",
        "import pyrosettacolabsetup; pyrosettacolabsetup.install_pyrosetta()\n",
        "import pyrosetta; pyrosetta.init()"
      ],
      "metadata": {
        "colab": {
          "base_uri": "https://localhost:8080/"
        },
        "id": "bdZeWX_6ii0o",
        "outputId": "f621f616-d369-4bd6-f1f0-2b04f6cf401c"
      },
      "execution_count": null,
      "outputs": [
        {
          "output_type": "stream",
          "name": "stdout",
          "text": [
            "Looking in indexes: https://pypi.org/simple, https://us-python.pkg.dev/colab-wheels/public/simple/\n",
            "Collecting pyrosettacolabsetup\n",
            "  Downloading pyrosettacolabsetup-1.0.6-py3-none-any.whl (4.7 kB)\n",
            "Installing collected packages: pyrosettacolabsetup\n",
            "Successfully installed pyrosettacolabsetup-1.0.6\n",
            "Mounted at /content/google_drive\n",
            "Looking for compatible PyRosetta wheel file at google-drive/PyRosetta/colab.bin/wheels...\n",
            "Found compatible wheel: /content/google_drive/MyDrive/PyRosetta/colab.bin/wheels//content/google_drive/MyDrive/PyRosetta/colab.bin/wheels/pyrosetta-2022.34+release.9ec33c9fe00-cp37-cp37m-linux_x86_64.whl\n",
            "Looking in indexes: https://pypi.org/simple, https://us-python.pkg.dev/colab-wheels/public/simple/\n",
            "\n",
            "\n",
            "PyRosetta-4 2022 [Rosetta PyRosetta4.MinSizeRel.python37.ubuntu 2022.34+release.9ec33c9fe00427e5b1b0393e84cd8062c07f104c 2022-08-24T09:49:27] retrieved from: http://www.pyrosetta.org\n",
            "(C) Copyright Rosetta Commons Member Institutions. Created in JHU by Sergey Lyskov and PyRosetta Team.\n",
            "core.init: Checking for fconfig files in pwd and ./rosetta/flags\n",
            "core.init: Rosetta version: PyRosetta4.MinSizeRel.python37.ubuntu r328 2022.34+release.9ec33c9fe00 9ec33c9fe00427e5b1b0393e84cd8062c07f104c http://www.pyrosetta.org 2022-08-24T09:49:27\n",
            "core.init: command: PyRosetta -ex1 -ex2aro -database /usr/local/lib/python3.7/dist-packages/pyrosetta/database\n",
            "basic.random.init_random_generator: 'RNG device' seed mode, using '/dev/urandom', seed=8772990 seed_offset=0 real_seed=8772990\n",
            "basic.random.init_random_generator: RandomGenerator:init: Normal mode, seed=8772990 RG_type=mt19937\n"
          ]
        }
      ]
    },
    {
      "cell_type": "markdown",
      "source": [
        "# **2. PyRosetta Workshop:**\n",
        "\n",
        "Here, you'll learn how to:\n",
        "\n",
        "*   **Load** a ligand into PyRosetta\n",
        "*   **Visualize** the actions of PyRosetta\n",
        "*   **Repack** residues\n",
        "*   **Mutate** residues\n",
        "*   **Create** your own schemes to mutate residues"
      ],
      "metadata": {
        "id": "lRgtHEJwijE8"
      }
    },
    {
      "cell_type": "markdown",
      "source": [
        "####**2.1. Restart the runtime**\n",
        "\n",
        "  Find \"Runtime\" menu underneath the notebook title, next to \"Tools\"\n",
        "\n",
        "  Select \"Runtime -> Restart runtime\".\n",
        "\n",
        "  Make sure the runtime is set to Python 3.\n",
        "\n",
        "  Check using \"Runtime -> Check runtime type\".\n",
        "\n",
        "  (There is no Code Block #2.1.)"
      ],
      "metadata": {
        "id": "7oi_llOEGbz2"
      }
    },
    {
      "cell_type": "markdown",
      "source": [
        "####**2.2. Clone the PyRosetta_Tutorial_20420 folder**\n",
        "\n",
        "  Run Code Block #2.2.\n",
        "\n",
        "  Access Patrick Holec's github to retrieve the tutorial folder.\n",
        "\n",
        "  This folder contains the files necessary to complete the tutorial (e.g., PDB files)\n",
        "\n",
        "  **You only have to do this once!**\n",
        "\n",
        "  **Ignore this step in future uses of PyRosetta beyond this tutorial.**"
      ],
      "metadata": {
        "id": "qx0qFNdCGj1s"
      }
    },
    {
      "cell_type": "code",
      "source": [
        "# Code Block #2.2\n",
        "\n",
        "#into content folder of colaboratory, not in drive\n",
        "\n",
        "!git clone -b colab https://github.com/PatrickHolec/PyRosetta_Tutorial_20420\n",
        "#os.chdir('PyRosetta_Tutorial_20420')"
      ],
      "metadata": {
        "colab": {
          "base_uri": "https://localhost:8080/"
        },
        "id": "07GgfZXTGmVR",
        "outputId": "21fdf773-2b3d-43c3-b7a5-019e425b3078"
      },
      "execution_count": 3,
      "outputs": [
        {
          "output_type": "stream",
          "name": "stdout",
          "text": [
            "Cloning into 'PyRosetta_Tutorial_20420'...\n",
            "remote: Enumerating objects: 95, done.\u001b[K\n",
            "remote: Total 95 (delta 0), reused 0 (delta 0), pack-reused 95\u001b[K\n",
            "Unpacking objects: 100% (95/95), done.\n"
          ]
        }
      ]
    },
    {
      "cell_type": "markdown",
      "source": [
        "####**2.3. Load PyRosetta**"
      ],
      "metadata": {
        "id": "gsGZrL-fGzpG"
      }
    },
    {
      "cell_type": "code",
      "source": [
        "# Code Block #2.3\n",
        "\n",
        "from pyrosetta import *\n",
        "from google.colab import files\n",
        "init()\n",
        "print('Done!')"
      ],
      "metadata": {
        "id": "_jMFxHJzG0P5"
      },
      "execution_count": null,
      "outputs": []
    },
    {
      "cell_type": "markdown",
      "source": [
        "####**2.4. Alter a Protein with Pyrosetta**\n",
        "\n",
        "  PyRosetta should be all set up now! **Every time you lose connection and restart a session in Colab, you will have to repeat steps, 1.1, 1.3, 1.4, 2.1, and 2.3** (and 2.2 if you want to use the .pdb and .mdl files from the \"Pyrosetta_Tutorial_20420\" folder). In your project colab files, you could make your own code block with \n",
        "\n",
        "  Follow the steps below and edit them to your satisfaction to make your own protein mutants!"
      ],
      "metadata": {
        "id": "brE4fyJuG3QX"
      }
    },
    {
      "cell_type": "markdown",
      "source": [
        "<h3> Now let's load a receptor-ligand pair </h3>\n"
      ],
      "metadata": {
        "id": "mo1cuqKqG637"
      }
    },
    {
      "cell_type": "code",
      "source": [
        "# Code Block #2.4.1\n",
        "\n",
        "pose = pose_from_pdb('2AVX_pyrrolysine.pdb')"
      ],
      "metadata": {
        "id": "eGSuakHDG5qA"
      },
      "execution_count": null,
      "outputs": []
    },
    {
      "cell_type": "markdown",
      "source": [
        "<h3>That error is wildly uninformative.</h3>\n",
        "<p> Turns out my ligand (Pyrrolysine) has nonstandard atoms (not CA, NH, etc). Let's make Rosetta cool with that by giving it parameters for these non-standard residues </p>"
      ],
      "metadata": {
        "id": "c48KZ-bHHIUw"
      }
    },
    {
      "cell_type": "code",
      "source": [
        "# Code Block #2.4.2\n",
        "\n",
        "# First, use Open Babel to convert your ligand pdb file into an mdl file\n",
        "\n",
        "files.download('pyrrolysine.pdb')\n",
        "\n",
        "# Install openbabel on your own computer from https://openbabel.org/docs/dev/Installation/install.html. \n",
        "# Run in the command line from your Downloads folder:\n",
        "# obabel pyrrolysine.pdb -Opyrrolysine.mdl\n"
      ],
      "metadata": {
        "id": "ay8dVM9pnq2s"
      },
      "execution_count": null,
      "outputs": []
    },
    {
      "cell_type": "code",
      "source": [
        "!chmod 755 -R molfile2params/molfile_to_params_python3.py"
      ],
      "metadata": {
        "id": "em0WM6oqtZcc"
      },
      "execution_count": null,
      "outputs": []
    },
    {
      "cell_type": "code",
      "source": [
        "# Code Block #2.4.3\n",
        "\n",
        "# Upload your .mdl file\n",
        "files.upload()\n",
        "\n",
        "# Let's convert the mdl file to a parameter file that Rosetta is cool with\n",
        "# Output will be LG.params, your parameters file, and LG_001.pdb, a pdb file you probably won't use.\n",
        "\n",
        "!chmod 755 -R molfile2params/molfile_to_params_python3.py\n",
        "!molfile2params/molfile_to_params_python3.py pyrrolysine.mdl --clobber\n"
      ],
      "metadata": {
        "id": "byfzeN-lHbpf"
      },
      "execution_count": null,
      "outputs": []
    },
    {
      "cell_type": "markdown",
      "source": [
        "<p> After running the next cell, you should be able to run any cell out of order in the rest of the presentation </p>"
      ],
      "metadata": {
        "id": "NhPWYFFnHpol"
      }
    },
    {
      "cell_type": "code",
      "source": [
        "# Code Block #2.4.4\n",
        "\n",
        "# Load up the parameters\n",
        "params_list = ['LG.params']\n",
        "pose = Pose()\n",
        "generate_nonstandard_residue_set(pose, params_list)\n",
        "\n",
        "# Import your ligand-receptor pdb file \n",
        "pose_from_file(pose,'2AVX_pyrrolysine.pdb')\n",
        "scorefxn = get_fa_scorefxn()"
      ],
      "metadata": {
        "id": "57eiB_XUHtAj"
      },
      "execution_count": null,
      "outputs": []
    },
    {
      "cell_type": "markdown",
      "source": [
        "<h3> Let's repack some sidechains without making mutations </h3>\n",
        "<p> First, we're using a MinMover to find a local energy minimum. The mover is constrained by a MoveMap, which specifies the acceptable backbone angles it can explore. We use PyRosetta's full atom score function as a proxy for free energy of a structure.You can do other things, like manually change backbone angles (phi/psi), and swap rotamers (see PyRosetta Workshop 5 & 6 for more).\n",
        "  \n",
        " <br>Then we'll use a protocol from the Baker lab, FastRelax, that's probably better than anything we would write ourselves to repack sidechains and adjust backbone angles. It does take several minutes, though.\n",
        "</p>\n",
        "<p> FastRelax is described here: http://dx.doi.org/10.1016/j.jmb.2010.11.008\n",
        "</p>"
      ],
      "metadata": {
        "id": "MCsOcjA6Htsu"
      }
    },
    {
      "cell_type": "code",
      "source": [
        "# Code Block #2.4.5\n",
        "\n",
        "min_mover = rosetta.protocols.minimization_packing.MinMover()\n",
        "move_map = MoveMap()\n",
        "move_map.set_bb_true_range(40,130)\n",
        "min_mover.movemap(move_map)\n",
        "min_mover.score_function(scorefxn)\n",
        "\n",
        "pose_min_move = Pose()\n",
        "pose_min_move.assign(pose)\n",
        "\n",
        "min_mover.apply(pose_min_move)\n",
        "\n",
        "print('Original Energy: %.2f' % scorefxn(pose))\n",
        "print('Energy after min_mover: %.2f' % scorefxn(pose_min_move))\n",
        "\n",
        "\n",
        "# More info about lots of movers and a GUI version of pyrosetta here: \n",
        "# http://dx.doi.org/10.1371/journal.pone.0066856"
      ],
      "metadata": {
        "id": "usTGWrB9HwWB"
      },
      "execution_count": null,
      "outputs": []
    },
    {
      "cell_type": "markdown",
      "source": [
        "<h3> Now let's check out FastRelax </h3>"
      ],
      "metadata": {
        "id": "u8hBKI_PH2In"
      }
    },
    {
      "cell_type": "code",
      "source": [
        "# Code Block #2.4.6\n",
        "\n",
        "fast_relax =rosetta.protocols.relax.FastRelax()\n",
        "fast_relax.set_scorefxn(scorefxn)\n",
        "\n",
        "pose_fast_relax = Pose()\n",
        "pose_fast_relax.assign(pose)\n",
        "fast_relax.apply(pose_fast_relax)\n",
        "\n",
        "print('Original Energy: %.2f' % scorefxn(pose))\n",
        "print('Energy after fast relax: %.2f' % scorefxn(pose_fast_relax))"
      ],
      "metadata": {
        "colab": {
          "base_uri": "https://localhost:8080/"
        },
        "id": "lHir-P-7xWDV",
        "outputId": "f44a6bbc-3526-4f03-8e46-7bd0425438d1"
      },
      "execution_count": null,
      "outputs": [
        {
          "output_type": "stream",
          "name": "stdout",
          "text": [
            "protocols.relax.RelaxScriptManager: Reading relax scripts list from database.\n",
            "core.scoring.ScoreFunctionFactory: SCOREFUNCTION: ref2015\n",
            "protocols.relax.RelaxScriptManager: Looking for MonomerRelax2019.txt\n",
            "protocols.relax.RelaxScriptManager: ================== Reading script file: /usr/local/lib/python3.7/dist-packages/pyrosetta/database/sampling/relax_scripts/MonomerRelax2019.txt ==================\n",
            "protocols.relax.RelaxScriptManager: repeat %%nrepeats%%\n",
            "protocols.relax.RelaxScriptManager: coord_cst_weight 1.0\n",
            "protocols.relax.RelaxScriptManager: scale:fa_rep 0.040\n",
            "protocols.relax.RelaxScriptManager: repack\n",
            "protocols.relax.RelaxScriptManager: scale:fa_rep 0.051\n",
            "protocols.relax.RelaxScriptManager: min 0.01\n",
            "protocols.relax.RelaxScriptManager: coord_cst_weight 0.5\n",
            "protocols.relax.RelaxScriptManager: scale:fa_rep 0.265\n",
            "protocols.relax.RelaxScriptManager: repack\n",
            "protocols.relax.RelaxScriptManager: scale:fa_rep 0.280\n",
            "protocols.relax.RelaxScriptManager: min 0.01\n",
            "protocols.relax.RelaxScriptManager: coord_cst_weight 0.0\n",
            "protocols.relax.RelaxScriptManager: scale:fa_rep 0.559\n",
            "protocols.relax.RelaxScriptManager: repack\n",
            "protocols.relax.RelaxScriptManager: scale:fa_rep 0.581\n",
            "protocols.relax.RelaxScriptManager: min 0.01\n",
            "protocols.relax.RelaxScriptManager: coord_cst_weight 0.0\n",
            "protocols.relax.RelaxScriptManager: scale:fa_rep 1\n",
            "protocols.relax.RelaxScriptManager: repack\n",
            "protocols.relax.RelaxScriptManager: min 0.00001\n",
            "protocols.relax.RelaxScriptManager: accept_to_best\n",
            "protocols.relax.RelaxScriptManager: endrepeat\n",
            "protocols.relax.FastRelax: CMD: repeat  444.333  0  0  0.55\n",
            "protocols.relax.FastRelax: CMD: coord_cst_weight  444.333  0  0  0.55\n",
            "protocols.relax.FastRelax: CMD: scale:fa_rep  208.41  0  0  0.022\n",
            "core.pack.task: Packer task: initialize from command line()\n",
            "core.pack.rotamer_set.RotamerSet_: Using simple Rotamer generation logic for LG1\n",
            "core.pack.pack_rotamers: built 5076 rotamers at 172 positions.\n",
            "core.pack.interaction_graph.interaction_graph_factory: Instantiating DensePDInteractionGraph\n",
            "protocols.relax.FastRelax: CMD: repack  -273.857  0  0  0.022\n",
            "protocols.relax.FastRelax: CMD: scale:fa_rep  -259.507  0  0  0.02805\n",
            "protocols.relax.FastRelax: CMD: min  -620.969  1.83231  1.83231  0.02805\n",
            "protocols.relax.FastRelax: CMD: coord_cst_weight  -620.969  1.83231  1.83231  0.02805\n",
            "protocols.relax.FastRelax: CMD: scale:fa_rep  -261.88  1.83231  1.83231  0.14575\n",
            "core.pack.task: Packer task: initialize from command line()\n",
            "core.pack.rotamer_set.RotamerSet_: Using simple Rotamer generation logic for LG1\n",
            "core.pack.pack_rotamers: built 4896 rotamers at 172 positions.\n",
            "core.pack.interaction_graph.interaction_graph_factory: Instantiating DensePDInteractionGraph\n",
            "protocols.relax.FastRelax: CMD: repack  -303.723  1.83231  1.83231  0.14575\n",
            "protocols.relax.FastRelax: CMD: scale:fa_rep  -283.151  1.83231  1.83231  0.154\n",
            "protocols.relax.FastRelax: CMD: min  -512.22  1.94034  1.94034  0.154\n",
            "protocols.relax.FastRelax: CMD: coord_cst_weight  -512.22  1.94034  1.94034  0.154\n",
            "protocols.relax.FastRelax: CMD: scale:fa_rep  -414.165  1.94034  1.94034  0.30745\n",
            "core.pack.task: Packer task: initialize from command line()\n",
            "core.pack.rotamer_set.RotamerSet_: Using simple Rotamer generation logic for LG1\n",
            "core.pack.pack_rotamers: built 4652 rotamers at 172 positions.\n",
            "core.pack.interaction_graph.interaction_graph_factory: Instantiating DensePDInteractionGraph\n",
            "protocols.relax.FastRelax: CMD: repack  -417.371  1.94034  1.94034  0.30745\n",
            "protocols.relax.FastRelax: CMD: scale:fa_rep  -409.795  1.94034  1.94034  0.31955\n",
            "protocols.relax.FastRelax: CMD: min  -434.869  1.8392  1.8392  0.31955\n",
            "protocols.relax.FastRelax: CMD: coord_cst_weight  -434.869  1.8392  1.8392  0.31955\n",
            "protocols.relax.FastRelax: CMD: scale:fa_rep  -345.658  1.8392  1.8392  0.55\n",
            "core.pack.task: Packer task: initialize from command line()\n",
            "core.pack.rotamer_set.RotamerSet_: Using simple Rotamer generation logic for LG1\n",
            "core.pack.pack_rotamers: built 4466 rotamers at 172 positions.\n",
            "core.pack.interaction_graph.interaction_graph_factory: Instantiating DensePDInteractionGraph\n",
            "protocols.relax.FastRelax: CMD: repack  -346.341  1.8392  1.8392  0.55\n",
            "protocols.relax.FastRelax: CMD: min  -394.733  1.79374  1.79374  0.55\n",
            "protocols.relax.FastRelax: MRP: 0  -394.733  -394.733  1.79374  1.79374\n",
            "protocols.relax.FastRelax: CMD: accept_to_best  -394.733  1.79374  1.79374  0.55\n",
            "protocols.relax.FastRelax: CMD: endrepeat  -394.733  1.79374  1.79374  0.55\n",
            "protocols.relax.FastRelax: CMD: coord_cst_weight  -394.733  1.79374  1.79374  0.55\n",
            "protocols.relax.FastRelax: CMD: scale:fa_rep  -506.327  1.79374  1.79374  0.022\n",
            "core.pack.task: Packer task: initialize from command line()\n",
            "core.pack.rotamer_set.RotamerSet_: Using simple Rotamer generation logic for LG1\n",
            "core.pack.pack_rotamers: built 5046 rotamers at 172 positions.\n",
            "core.pack.interaction_graph.interaction_graph_factory: Instantiating DensePDInteractionGraph\n",
            "protocols.relax.FastRelax: CMD: repack  -528.691  1.79374  1.79374  0.022\n",
            "protocols.relax.FastRelax: CMD: scale:fa_rep  -523.213  1.79374  1.79374  0.02805\n",
            "protocols.relax.FastRelax: CMD: min  -684.46  2.19381  2.19381  0.02805\n",
            "protocols.relax.FastRelax: CMD: coord_cst_weight  -684.46  2.19381  2.19381  0.02805\n",
            "protocols.relax.FastRelax: CMD: scale:fa_rep  -333.724  2.19381  2.19381  0.14575\n",
            "core.pack.task: Packer task: initialize from command line()\n",
            "core.pack.rotamer_set.RotamerSet_: Using simple Rotamer generation logic for LG1\n",
            "core.pack.pack_rotamers: built 4793 rotamers at 172 positions.\n",
            "core.pack.interaction_graph.interaction_graph_factory: Instantiating DensePDInteractionGraph\n",
            "protocols.relax.FastRelax: CMD: repack  -363.697  2.19381  2.19381  0.14575\n",
            "protocols.relax.FastRelax: CMD: scale:fa_rep  -343.336  2.19381  2.19381  0.154\n",
            "protocols.relax.FastRelax: CMD: min  -537.868  1.99988  1.99988  0.154\n",
            "protocols.relax.FastRelax: CMD: coord_cst_weight  -537.868  1.99988  1.99988  0.154\n",
            "protocols.relax.FastRelax: CMD: scale:fa_rep  -440.285  1.99988  1.99988  0.30745\n",
            "core.pack.task: Packer task: initialize from command line()\n",
            "core.pack.rotamer_set.RotamerSet_: Using simple Rotamer generation logic for LG1\n",
            "core.pack.pack_rotamers: built 4603 rotamers at 172 positions.\n",
            "core.pack.interaction_graph.interaction_graph_factory: Instantiating DensePDInteractionGraph\n",
            "protocols.relax.FastRelax: CMD: repack  -443.516  1.99988  1.99988  0.30745\n",
            "protocols.relax.FastRelax: CMD: scale:fa_rep  -435.925  1.99988  1.99988  0.31955\n",
            "protocols.relax.FastRelax: CMD: min  -463.473  1.93972  1.93972  0.31955\n",
            "protocols.relax.FastRelax: CMD: coord_cst_weight  -463.473  1.93972  1.93972  0.31955\n",
            "protocols.relax.FastRelax: CMD: scale:fa_rep  -377.232  1.93972  1.93972  0.55\n",
            "core.pack.task: Packer task: initialize from command line()\n",
            "core.pack.rotamer_set.RotamerSet_: Using simple Rotamer generation logic for LG1\n",
            "core.pack.pack_rotamers: built 4388 rotamers at 172 positions.\n",
            "core.pack.interaction_graph.interaction_graph_factory: Instantiating DensePDInteractionGraph\n",
            "protocols.relax.FastRelax: CMD: repack  -377.341  1.93972  1.93972  0.55\n",
            "protocols.relax.FastRelax: CMD: min  -415.274  2.10491  2.10491  0.55\n",
            "protocols.relax.FastRelax: MRP: 1  -415.274  -415.274  2.10491  2.10491\n",
            "protocols.relax.FastRelax: CMD: accept_to_best  -415.274  2.10491  2.10491  0.55\n",
            "protocols.relax.FastRelax: CMD: endrepeat  -415.274  2.10491  2.10491  0.55\n",
            "protocols.relax.FastRelax: CMD: coord_cst_weight  -415.274  2.10491  2.10491  0.55\n",
            "protocols.relax.FastRelax: CMD: scale:fa_rep  -530.459  2.10491  2.10491  0.022\n",
            "core.pack.task: Packer task: initialize from command line()\n",
            "core.pack.rotamer_set.RotamerSet_: Using simple Rotamer generation logic for LG1\n",
            "core.pack.pack_rotamers: built 5138 rotamers at 172 positions.\n",
            "core.pack.interaction_graph.interaction_graph_factory: Instantiating DensePDInteractionGraph\n",
            "protocols.relax.FastRelax: CMD: repack  -546.01  2.10491  2.10491  0.022\n",
            "protocols.relax.FastRelax: CMD: scale:fa_rep  -539.236  2.10491  2.10491  0.02805\n",
            "protocols.relax.FastRelax: CMD: min  -705.682  2.45291  2.45291  0.02805\n",
            "protocols.relax.FastRelax: CMD: coord_cst_weight  -705.682  2.45291  2.45291  0.02805\n",
            "protocols.relax.FastRelax: CMD: scale:fa_rep  -361.101  2.45291  2.45291  0.14575\n",
            "core.pack.task: Packer task: initialize from command line()\n",
            "core.pack.rotamer_set.RotamerSet_: Using simple Rotamer generation logic for LG1\n",
            "core.pack.pack_rotamers: built 4756 rotamers at 172 positions.\n",
            "core.pack.interaction_graph.interaction_graph_factory: Instantiating DensePDInteractionGraph\n",
            "protocols.relax.FastRelax: CMD: repack  -379.601  2.45291  2.45291  0.14575\n",
            "protocols.relax.FastRelax: CMD: scale:fa_rep  -357.979  2.45291  2.45291  0.154\n",
            "protocols.relax.FastRelax: CMD: min  -555.905  2.24573  2.24573  0.154\n",
            "protocols.relax.FastRelax: CMD: coord_cst_weight  -555.905  2.24573  2.24573  0.154\n",
            "protocols.relax.FastRelax: CMD: scale:fa_rep  -454.239  2.24573  2.24573  0.30745\n",
            "core.pack.task: Packer task: initialize from command line()\n",
            "core.pack.rotamer_set.RotamerSet_: Using simple Rotamer generation logic for LG1\n",
            "core.pack.pack_rotamers: built 4715 rotamers at 172 positions.\n",
            "core.pack.interaction_graph.interaction_graph_factory: Instantiating DensePDInteractionGraph\n",
            "protocols.relax.FastRelax: CMD: repack  -455.515  2.24573  2.24573  0.30745\n",
            "protocols.relax.FastRelax: CMD: scale:fa_rep  -447.679  2.24573  2.24573  0.31955\n",
            "protocols.relax.FastRelax: CMD: min  -473.716  2.21622  2.21622  0.31955\n",
            "protocols.relax.FastRelax: CMD: coord_cst_weight  -473.716  2.21622  2.21622  0.31955\n",
            "protocols.relax.FastRelax: CMD: scale:fa_rep  -381.558  2.21622  2.21622  0.55\n",
            "core.pack.task: Packer task: initialize from command line()\n",
            "core.pack.rotamer_set.RotamerSet_: Using simple Rotamer generation logic for LG1\n",
            "core.pack.pack_rotamers: built 4530 rotamers at 172 positions.\n",
            "core.pack.interaction_graph.interaction_graph_factory: Instantiating DensePDInteractionGraph\n",
            "protocols.relax.FastRelax: CMD: repack  -381.889  2.21622  2.21622  0.55\n",
            "protocols.relax.FastRelax: CMD: min  -423.669  2.23275  2.23275  0.55\n",
            "protocols.relax.FastRelax: MRP: 2  -423.669  -423.669  2.23275  2.23275\n",
            "protocols.relax.FastRelax: CMD: accept_to_best  -423.669  2.23275  2.23275  0.55\n",
            "protocols.relax.FastRelax: CMD: endrepeat  -423.669  2.23275  2.23275  0.55\n",
            "protocols.relax.FastRelax: CMD: coord_cst_weight  -423.669  2.23275  2.23275  0.55\n",
            "protocols.relax.FastRelax: CMD: scale:fa_rep  -542.06  2.23275  2.23275  0.022\n",
            "core.pack.task: Packer task: initialize from command line()\n",
            "core.pack.rotamer_set.RotamerSet_: Using simple Rotamer generation logic for LG1\n",
            "core.pack.pack_rotamers: built 5021 rotamers at 172 positions.\n",
            "core.pack.interaction_graph.interaction_graph_factory: Instantiating DensePDInteractionGraph\n",
            "protocols.relax.FastRelax: CMD: repack  -553.995  2.23275  2.23275  0.022\n",
            "protocols.relax.FastRelax: CMD: scale:fa_rep  -550.962  2.23275  2.23275  0.02805\n",
            "protocols.relax.FastRelax: CMD: min  -704.239  2.52403  2.52403  0.02805\n",
            "protocols.relax.FastRelax: CMD: coord_cst_weight  -704.239  2.52403  2.52403  0.02805\n",
            "protocols.relax.FastRelax: CMD: scale:fa_rep  -375.741  2.52403  2.52403  0.14575\n",
            "core.pack.task: Packer task: initialize from command line()\n",
            "core.pack.rotamer_set.RotamerSet_: Using simple Rotamer generation logic for LG1\n",
            "core.pack.pack_rotamers: built 4808 rotamers at 172 positions.\n",
            "core.pack.interaction_graph.interaction_graph_factory: Instantiating DensePDInteractionGraph\n",
            "protocols.relax.FastRelax: CMD: repack  -393.534  2.52403  2.52403  0.14575\n",
            "protocols.relax.FastRelax: CMD: scale:fa_rep  -372.595  2.52403  2.52403  0.154\n",
            "protocols.relax.FastRelax: CMD: min  -559.958  2.30877  2.30877  0.154\n",
            "protocols.relax.FastRelax: CMD: coord_cst_weight  -559.958  2.30877  2.30877  0.154\n",
            "protocols.relax.FastRelax: CMD: scale:fa_rep  -462.331  2.30877  2.30877  0.30745\n",
            "core.pack.task: Packer task: initialize from command line()\n",
            "core.pack.rotamer_set.RotamerSet_: Using simple Rotamer generation logic for LG1\n",
            "core.pack.pack_rotamers: built 4610 rotamers at 172 positions.\n",
            "core.pack.interaction_graph.interaction_graph_factory: Instantiating DensePDInteractionGraph\n",
            "protocols.relax.FastRelax: CMD: repack  -462.418  2.30877  2.30877  0.30745\n",
            "protocols.relax.FastRelax: CMD: scale:fa_rep  -454.819  2.30877  2.30877  0.31955\n",
            "protocols.relax.FastRelax: CMD: min  -481.252  2.27845  2.27845  0.31955\n",
            "protocols.relax.FastRelax: CMD: coord_cst_weight  -481.252  2.27845  2.27845  0.31955\n",
            "protocols.relax.FastRelax: CMD: scale:fa_rep  -394.629  2.27845  2.27845  0.55\n",
            "core.pack.task: Packer task: initialize from command line()\n",
            "core.pack.rotamer_set.RotamerSet_: Using simple Rotamer generation logic for LG1\n",
            "core.pack.pack_rotamers: built 4355 rotamers at 172 positions.\n",
            "core.pack.interaction_graph.interaction_graph_factory: Instantiating DensePDInteractionGraph\n",
            "protocols.relax.FastRelax: CMD: repack  -394.865  2.27845  2.27845  0.55\n",
            "protocols.relax.FastRelax: CMD: min  -426.241  2.25278  2.25278  0.55\n",
            "protocols.relax.FastRelax: MRP: 3  -426.241  -426.241  2.25278  2.25278\n",
            "protocols.relax.FastRelax: CMD: accept_to_best  -426.241  2.25278  2.25278  0.55\n",
            "protocols.relax.FastRelax: CMD: endrepeat  -426.241  2.25278  2.25278  0.55\n",
            "protocols.relax.FastRelax: CMD: coord_cst_weight  -426.241  2.25278  2.25278  0.55\n",
            "protocols.relax.FastRelax: CMD: scale:fa_rep  -544.477  2.25278  2.25278  0.022\n",
            "core.pack.task: Packer task: initialize from command line()\n",
            "core.pack.rotamer_set.RotamerSet_: Using simple Rotamer generation logic for LG1\n",
            "core.pack.pack_rotamers: built 4959 rotamers at 172 positions.\n",
            "core.pack.interaction_graph.interaction_graph_factory: Instantiating DensePDInteractionGraph\n",
            "protocols.relax.FastRelax: CMD: repack  -556.68  2.25278  2.25278  0.022\n",
            "protocols.relax.FastRelax: CMD: scale:fa_rep  -553.488  2.25278  2.25278  0.02805\n",
            "protocols.relax.FastRelax: CMD: min  -709.974  2.51995  2.51995  0.02805\n",
            "protocols.relax.FastRelax: CMD: coord_cst_weight  -709.974  2.51995  2.51995  0.02805\n",
            "protocols.relax.FastRelax: CMD: scale:fa_rep  -380.667  2.51995  2.51995  0.14575\n",
            "core.pack.task: Packer task: initialize from command line()\n",
            "core.pack.rotamer_set.RotamerSet_: Using simple Rotamer generation logic for LG1\n",
            "core.pack.pack_rotamers: built 4800 rotamers at 172 positions.\n",
            "core.pack.interaction_graph.interaction_graph_factory: Instantiating DensePDInteractionGraph\n",
            "protocols.relax.FastRelax: CMD: repack  -396.116  2.51995  2.51995  0.14575\n",
            "protocols.relax.FastRelax: CMD: scale:fa_rep  -374.786  2.51995  2.51995  0.154\n",
            "protocols.relax.FastRelax: CMD: min  -562.879  2.32805  2.32805  0.154\n",
            "protocols.relax.FastRelax: CMD: coord_cst_weight  -562.879  2.32805  2.32805  0.154\n",
            "protocols.relax.FastRelax: CMD: scale:fa_rep  -463.136  2.32805  2.32805  0.30745\n",
            "core.pack.task: Packer task: initialize from command line()\n",
            "core.pack.rotamer_set.RotamerSet_: Using simple Rotamer generation logic for LG1\n",
            "core.pack.pack_rotamers: built 4631 rotamers at 172 positions.\n",
            "core.pack.interaction_graph.interaction_graph_factory: Instantiating DensePDInteractionGraph\n",
            "protocols.relax.FastRelax: CMD: repack  -463.682  2.32805  2.32805  0.30745\n",
            "protocols.relax.FastRelax: CMD: scale:fa_rep  -455.925  2.32805  2.32805  0.31955\n",
            "protocols.relax.FastRelax: CMD: min  -483.167  2.29798  2.29798  0.31955\n",
            "protocols.relax.FastRelax: CMD: coord_cst_weight  -483.167  2.29798  2.29798  0.31955\n",
            "protocols.relax.FastRelax: CMD: scale:fa_rep  -395.503  2.29798  2.29798  0.55\n",
            "core.pack.task: Packer task: initialize from command line()\n",
            "core.pack.rotamer_set.RotamerSet_: Using simple Rotamer generation logic for LG1\n",
            "core.pack.pack_rotamers: built 4455 rotamers at 172 positions.\n",
            "core.pack.interaction_graph.interaction_graph_factory: Instantiating DensePDInteractionGraph\n",
            "protocols.relax.FastRelax: CMD: repack  -394.657  2.29798  2.29798  0.55\n",
            "protocols.relax.FastRelax: CMD: min  -427.196  2.24606  2.24606  0.55\n",
            "protocols.relax.FastRelax: MRP: 4  -427.196  -427.196  2.24606  2.24606\n",
            "protocols.relax.FastRelax: CMD: accept_to_best  -427.196  2.24606  2.24606  0.55\n",
            "protocols.relax.FastRelax: CMD: endrepeat  -427.196  2.24606  2.24606  0.55\n",
            "protocols::checkpoint: Deleting checkpoints of FastRelax\n",
            "Original Energy: 444.33\n",
            "Energy after fast relax: -427.20\n"
          ]
        }
      ]
    },
    {
      "cell_type": "markdown",
      "source": [
        "<h3> Fast Relax dramatically decreases the energy </h3>\n",
        "<p> I'm not sure if this is true, but I think you could make almost any mutation, run FastRelax, and find a structure that is lower energy than your starting structure. So, you might want to start by running FastRelax to get a baseline for your protein. You could output the WT FastRelaxed protein and use it as your starting structure.\n",
        "</p>"
      ],
      "metadata": {
        "id": "0xb7GaMaH_Ee"
      }
    },
    {
      "cell_type": "markdown",
      "source": [
        "<h3> But we want to mutate residues, too! </h3>\n",
        "<p>\n",
        "For that, we'll use a Pack Mover. This uses simulated annealing and Metropolis/Monte Carlo to search for the best residue/rotamer.\n",
        "</p>"
      ],
      "metadata": {
        "id": "ft9rJDGlICNS"
      }
    },
    {
      "cell_type": "code",
      "source": [
        "# Code Block #2.4.7\n",
        "\n",
        "pose_pack_mover = Pose()\n",
        "pose_pack_mover.assign(pose)\n",
        "pose_pack_mover.pdb_info().name('pack_mover')\n",
        "\n",
        "task = standard_packer_task(pose_pack_mover)\n",
        "task.temporarily_fix_everything()\n",
        "task.temporarily_set_pack_residue(124, True)\n",
        "task.temporarily_set_pack_residue(123, True)\n",
        "\n",
        "pack_mover = rosetta.protocols.minimization_packing.PackRotamersMover(scorefxn, task)\n",
        "\n",
        "pack_mover.apply(pose_pack_mover)\n",
        "\n",
        "print('Original Score: %s' % scorefxn(pose))\n",
        "print('Score after mutating 124, 123: %s' % scorefxn(pose_pack_mover))"
      ],
      "metadata": {
        "id": "OWNwOj0tIEOd"
      },
      "execution_count": null,
      "outputs": []
    },
    {
      "cell_type": "markdown",
      "source": [
        "<h3> What if we want more control over the design? </h3>\n",
        "<p> Then we use \"resfiles.\" In these, you can define which atoms are allowed to be mutated, and what mutations are allowed. So, you can restrict a polar residue to other polar residues, if that's important (maybe you're modifying an enzyme and want it to still be functional)\n",
        " <br><br>\n",
        "The default value for all residues in new resfile is NATRO<br>\n",
        "<ul>\n",
        "<li> NATRO - NATive ROtamer (no mutation, no repacking)<br>\n",
        "<li> NATAA - NATive AminoAcid (no mutation, repacking )<br>\n",
        "<li> PIKAA STNQ - PIcK Amino Acids STNQ (mutation and repacking to defined residues-- these don't have to be STNQ)<br>\n",
        "<li> ALLAA - ALL Amino Acids (All amino acids, all repacking)<br>\n",
        "</p>\n"
      ],
      "metadata": {
        "id": "e5gDtPzrIE_J"
      }
    },
    {
      "cell_type": "code",
      "source": [
        "# Code Block #2.4.8\n",
        "\n",
        "save_resfile_filter = pyrosetta.rosetta.protocols.simple_filters.SaveResfileToDiskFilter()\n",
        "save_resfile_filter.resfile_name('my.resfile')\n",
        "all_resis = save_resfile_filter.selected_resis()\n",
        "for r in range(1, pose.total_residue() + 1):\n",
        "  all_resis.append(r)\n",
        "save_resfile_filter.selected_resis_property('NATRO')\n",
        "save_resfile_filter.write_resfile(pose, all_resis)\n",
        "!cat 'my.resfile'\n",
        "\n",
        "# We can also download the file to manually edit in a text editor.\n",
        "# files.download('my.resfile')"
      ],
      "metadata": {
        "id": "24-rBRCCIHNs"
      },
      "execution_count": null,
      "outputs": []
    },
    {
      "cell_type": "markdown",
      "source": [
        "<h4> Editing the resfile </h4>\n",
        "<p>\n",
        "Let's limit S89, S101, S123, S139, S147  to uncharged polar residues (STNQ)\n",
        "<br>\n",
        "\n",
        "</p>"
      ],
      "metadata": {
        "id": "DNq2cW_uIPpG"
      }
    },
    {
      "cell_type": "code",
      "source": [
        "# Code Block #2.4.9\n",
        "\n",
        "res_to_mutate = [89, 101, 123, 139, 147]\n",
        "chain = 'A'\n",
        "\n",
        "with open('my.resfile') as file:\n",
        "  with open('new.resfile','w+') as newfile:\n",
        "    for line in file:\n",
        "      try:\n",
        "        if int(line[:4].strip()) in res_to_mutate:\n",
        "          newline = list(line)\n",
        "          i = line.find(chain)\n",
        "          newline[i + 2:] = list('PIKAA STNQ\\n')\n",
        "          newfile.write(\"\".join(newline))\n",
        "        else:\n",
        "          newfile.write(line)\n",
        "      except ValueError:\n",
        "        newfile.write(line)\n",
        "        \n",
        "!cat 'new.resfile'\n"
      ],
      "metadata": {
        "id": "ictyAHaWIX3K"
      },
      "execution_count": null,
      "outputs": []
    },
    {
      "cell_type": "markdown",
      "source": [
        "<h3> Sequences </h3>\n",
        "<p>\n",
        "Let's string together multiple movers as we change those 5 residues.\n",
        "</p>"
      ],
      "metadata": {
        "id": "Yp0TCq3ZIYdK"
      }
    },
    {
      "cell_type": "code",
      "source": [
        "# Code Block #2.4.10\n",
        "\n",
        "pose_pack_mover = Pose()\n",
        "pose_pack_mover.assign(pose)\n",
        "pose_pack_mover.pdb_info().name('defined_pack_mover')\n",
        "\n",
        "kT = 1.0\n",
        "mc = MonteCarlo(pose_pack_mover, scorefxn, kT)\n",
        "\n",
        "for i in range(11):\n",
        "    task = rosetta.core.pack.task.TaskFactory.create_packer_task(pose_pack_mover)\n",
        "    rosetta.core.pack.task.parse_resfile(pose_pack_mover, task, 'new.resfile')\n",
        "    packer_task = rosetta.protocols.minimization_packing.PackRotamersMover(scorefxn, task)\n",
        "\n",
        "    min_mover = rosetta.protocols.minimization_packing.MinMover()\n",
        "    mm70150 = MoveMap()\n",
        "    mm70150.set_bb_true_range(70, 150)\n",
        "    min_mover.movemap(mm70150)\n",
        "    min_mover.score_function(scorefxn)\n",
        "\n",
        "    seq_mover = SequenceMover()\n",
        "    seq_mover.add_mover(packer_task)\n",
        "    seq_mover.add_mover(min_mover)\n",
        "\n",
        "    trial_pack_min_mover = TrialMover(seq_mover, mc)\n",
        "\n",
        "    trial_pack_min_mover.apply(pose_pack_mover)\n",
        "    print('Score: %s' % scorefxn(pose_pack_mover))\n",
        "\n",
        "# What residue is at position 123 now?\n",
        "print(pose_pack_mover.residue(123).name())"
      ],
      "metadata": {
        "id": "CKJ5fyZRIaif"
      },
      "execution_count": null,
      "outputs": []
    },
    {
      "cell_type": "markdown",
      "source": [
        "<h4> RepeatMover (may be buggy, for example with PackMover)</h4>\n",
        "<p> I'd just use a for loop instead, but here's an example using one </p>\n",
        "<h4> Finally, let's download a pdb file of our altered protein.</h4>\n",
        "<p>We can visualize our efforts by loading this file in PyMol. </p>"
      ],
      "metadata": {
        "id": "as1pl6etIcTw"
      }
    },
    {
      "cell_type": "code",
      "source": [
        "# Code Block #2.4.11\n",
        "\n",
        "# Repeat Mover Example\n",
        "\n",
        "pose_repeat_small_mover = Pose()\n",
        "pose_repeat_small_mover.assign(pose)\n",
        "pose_repeat_small_mover.pdb_info().name('repeat_small_mover')\n",
        "\n",
        "kT = 1.0\n",
        "movemap = MoveMap()\n",
        "movemap.set_bb(True)\n",
        "small_mover = rosetta.protocols.simple_moves.SmallMover(movemap, kT, 1)\n",
        "\n",
        "mc = MonteCarlo(pose_repeat_small_mover, scorefxn, kT)\n",
        "trial_mover = TrialMover(small_mover, mc)\n",
        "\n",
        "n = 20\n",
        "repeat_mover = RepeatMover(trial_mover, n)\n",
        "\n",
        "repeat_mover.apply(pose_repeat_small_mover)\n",
        "\n",
        "print('original: %s' % scorefxn(pose))\n",
        "print('new: %s' % scorefxn(pose_repeat_small_mover))\n",
        "\n",
        "# Downloading a PDB file\n",
        "\n",
        "pose_repeat_small_mover.dump_pdb('repeat_small_mover.pdb')\n",
        "files.download('repeat_small_mover.pdb')"
      ],
      "metadata": {
        "id": "KbY0UUpDIeKX"
      },
      "execution_count": null,
      "outputs": []
    },
    {
      "cell_type": "markdown",
      "source": [
        "# **3. Review**\n",
        "<p> Here's what you've done so far: </p>\n",
        "<ul>\n",
        "    <li> <b> Loaded a PDB file </b> into PyRosetta\n",
        "    <li> <b>Generated PyRosetta parameters </b>for a non-standard ligand, using Babel and mol2params.py\n",
        "    <li> <b>Repacked and refined Structures </b> using MinMover and FastRelax\n",
        "    <li> <b> Mutated residues </b> using a PackMover\n",
        "    <li> <b> Made your own routines </b> using Sequence and TrialMovers that accept movements based on a Metropolis criterion\n",
        "     <li> <b> Downloaded a PDB file </b> that can be visualized and shared\n",
        "</ul>"
      ],
      "metadata": {
        "id": "gNoAwWLFIjWt"
      }
    },
    {
      "cell_type": "markdown",
      "source": [
        "<h1> What you can look to improve? </h1>\n",
        "<ul>\n",
        "<li>Can the conformation of your ligand change?\n",
        "<li>What's a good routine for mutating residues? Why?\n",
        "<li>What's happening to secondary structure during these movements?\n",
        "<li>Hydrogen bonds?\n",
        "<li>How do you know when to stop mutating/changing?\n",
        "<li>What sort of pretty plots could you generate to show what's going on here? (both with PyMol and without)\n",
        "</ul>"
      ],
      "metadata": {
        "id": "zJDBw6YsInAF"
      }
    }
  ]
}