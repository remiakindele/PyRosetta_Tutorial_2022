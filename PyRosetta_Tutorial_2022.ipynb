{
  "nbformat": 4,
  "nbformat_minor": 0,
  "metadata": {
    "colab": {
      "provenance": []
    },
    "kernelspec": {
      "name": "python3",
      "display_name": "Python 3"
    },
    "language_info": {
      "name": "python"
    }
  },
  "cells": [
    {
      "cell_type": "markdown",
      "source": [
        "# **20.420 PyRosetta Tutorial and Workshop**\n",
        "## Date: TBD\n",
        "### Updated September 1, 2022 by Remi Akindele\n",
        "\n",
        "\n",
        "---\n",
        "\n",
        "\n",
        "\n",
        "Original version of workshop found here: https://github.com/PatrickHolec/Pyrosetta_Tutorial_20420\n",
        "\n",
        "Rosetta Commons PyRosetta Tutorial Guide: https://colab.research.google.com/github/RosettaCommons/PyRosetta.notebooks/blob/master/notebooks/toc.ipynb\n",
        " \n",
        "Github for this tutorial: https://github.com/remiakindele/PyRosetta_Tutorial_2022\n",
        "\n",
        "---"
      ],
      "metadata": {
        "id": "N-lhiBf4Ro1d"
      }
    },
    {
      "cell_type": "markdown",
      "source": [
        "#**0. Before You Start:**"
      ],
      "metadata": {
        "id": "2mv4NB6XAjp_"
      }
    },
    {
      "cell_type": "markdown",
      "source": [
        "1. File -> Save a copy in Drive\n",
        "2. Rename the file to \"LastName_FirstName_PyRosetta_Tutorial.ipynb\" (replacing with your name)\n",
        "3. Make sure you are running Python 3 by clicking \"Runtime\" -> \"Change runtime type\" -> \"Python 3\"\n",
        "  *   If no option for Python 3 comes up, you are probably running it correctly.\n",
        "  *   Hover over the Ram and Disk bar graphs in the top right corner next to \"Editing\" and you should see:\n",
        "  \n",
        "    \"Connected to Python 3...\"\n",
        "\n",
        "  *   If there are no Ram and Disk bar graphs in the top right corner next to \"Editing\", click the \"Connect\" button that is there instead. Then repeat the previous \"Hover...\" step.\n",
        "\n",
        "\n",
        "\n",
        "**Tip:**\n",
        "\n",
        "1) When you use this template for the Protein Design Project, I recommend copying your completed \"LastName_FirstName_PyRosetta_Tutorial.ipynb\" file and saving the original as a reference in case something goes wrong with the new one.\n",
        "\n",
        "2) This workshop works best in Google Chrome. If you notice issues with downloading objects generated from the notebook, try switching to Google Chrome if you aren't already. \n",
        "\n",
        "\n",
        "**Now you can start the Tutorial!**\n",
        "\n",
        "\n",
        "---\n",
        "\n"
      ],
      "metadata": {
        "id": "G2IqFmjiArIG"
      }
    },
    {
      "cell_type": "markdown",
      "source": [
        "# **1. Set Up PyRosetta:**\n",
        "\n",
        "Here, you will:\n",
        "*   **Mount** the Drive to Colaboratory\n",
        "*   **Download** the PyRosetta zip file\n",
        "*   **Unzip** PyRosetta\n",
        "*   **Install** PyRosetta\n"
      ],
      "metadata": {
        "id": "cf2hSkSLBBFX"
      }
    },
    {
      "cell_type": "markdown",
      "source": [
        "####**1.1. Mount Google Drive**\n",
        "  Run Code Block #1.1.\n",
        "\n",
        "  ***First time through***: Mount Google drive to avoid having to re-download the PyRosetta package. Mount before you download PyRosetta. Note: The PyRosetta installation should now do this automatically for you, so you don't need to worry about this!\n",
        "\n",
        "  ***Later uses of the notebook***: In the event you disconnect from Colab after the first download, running Code Block #1.2 should be much faster, as PyRosetta should already be installed in your Google Drive. \n"
      ],
      "metadata": {
        "id": "TuWC9R_cBWgH"
      }
    },
    {
      "cell_type": "code",
      "source": [
        "# Code Block #1.1: Mount your Drive\n",
        "\n",
        "from google.colab import drive\n",
        "from google.colab import files\n",
        "import os\n",
        "print(os.getcwd())\n",
        "#drive.mount('/content/google_drive')"
      ],
      "metadata": {
        "colab": {
          "base_uri": "https://localhost:8080/"
        },
        "id": "53TSfYillKEE",
        "outputId": "1b370af2-b702-41fe-cf95-46d45ef19e0e"
      },
      "execution_count": null,
      "outputs": [
        {
          "output_type": "stream",
          "name": "stdout",
          "text": [
            "/content/PyRosetta_Tutorial_2022\n"
          ]
        }
      ]
    },
    {
      "cell_type": "markdown",
      "source": [
        "####**1.2.  Download, Install, and Import PyRosetta for use in Colab**\n",
        "\n",
        "Run Code Block #1.2. to install and import PyRosetta. It will ask you to copy and paste a code to authorize. You will need to type your PyRosetta license information. \n",
        "\n",
        "\n",
        "> The RC license usercode: levinthal\n",
        ">\n",
        "> The RC license password: paradox\n",
        "\n",
        "\n",
        "\n",
        " Note: It will take ~10 mins to run, but you only need to do this once.\n",
        "\n",
        "\n",
        "  \\***You only have to do this once!**\\* Skip this step after you've downloaded it once and mounted to the Google Drive.\n"
      ],
      "metadata": {
        "id": "5WOdv4udBi6L"
      }
    },
    {
      "cell_type": "markdown",
      "source": [
        " The output for a successfully downloaded file will contain text roughly like this: \n",
        "    \n",
        "    PyRosetta-4 2022 [Rosetta PyRosetta4.MinSizeRel.python37.ubuntu 2022.34+release.9ec33c9fe00427e5b1b0393e84cd8062c07f104c 2022-08-24T09:49:27] retrieved from: http://www.pyrosetta.org\n",
        "(C) Copyright Rosetta Commons Member Institutions. Created in JHU by Sergey Lyskov and PyRosetta Team.\n",
        "core.init: Checking for fconfig files in pwd and ./rosetta/flags\n",
        "core.init: Rosetta version: PyRosetta4.MinSizeRel.python37.ubuntu r328 2022.34+release.9ec33c9fe00 9ec33c9fe00427e5b1b0393e84cd8062c07f104c http://www.pyrosetta.org 2022-08-24T09:49:27\n",
        "core.init: command: PyRosetta -ex1 -ex2aro -database /usr/local/lib/python3.7/dist-packages/pyrosetta/database\n",
        "basic.random.init_random_generator: 'RNG device' seed mode, using '/dev/urandom', seed=-582725582 seed_offset=0 real_seed=-582725582\n",
        "basic.random.init_random_generator: RandomGenerator:init: Normal mode, seed=-582725582 RG_type=mt19937"
      ],
      "metadata": {
        "id": "hAuVXDt7D-Qb"
      }
    },
    {
      "cell_type": "code",
      "execution_count": null,
      "metadata": {
        "colab": {
          "base_uri": "https://localhost:8080/"
        },
        "id": "acFo6NJ4iFDN",
        "outputId": "8a4a4803-b237-43fa-f5dd-37c6800fc2ff"
      },
      "outputs": [
        {
          "output_type": "stream",
          "name": "stdout",
          "text": [
            "Looking in indexes: https://pypi.org/simple, https://us-python.pkg.dev/colab-wheels/public/simple/\n",
            "Requirement already satisfied: pyrosettacolabsetup in /usr/local/lib/python3.7/dist-packages (1.0.6)\n",
            "PyRosetta-4 2022 [Rosetta PyRosetta4.MinSizeRel.python37.ubuntu 2022.34+release.9ec33c9fe00427e5b1b0393e84cd8062c07f104c 2022-08-24T09:49:27] retrieved from: http://www.pyrosetta.org\n",
            "(C) Copyright Rosetta Commons Member Institutions. Created in JHU by Sergey Lyskov and PyRosetta Team.\n",
            "core.init: Checking for fconfig files in pwd and ./rosetta/flags\n",
            "core.init: Rosetta version: PyRosetta4.MinSizeRel.python37.ubuntu r328 2022.34+release.9ec33c9fe00 9ec33c9fe00427e5b1b0393e84cd8062c07f104c http://www.pyrosetta.org 2022-08-24T09:49:27\n",
            "core.init: command: PyRosetta -ex1 -ex2aro -database /usr/local/lib/python3.7/dist-packages/pyrosetta/database\n",
            "basic.random.init_random_generator: 'RNG device' seed mode, using '/dev/urandom', seed=353334307 seed_offset=0 real_seed=353334307\n",
            "basic.random.init_random_generator: RandomGenerator:init: Normal mode, seed=353334307 RG_type=mt19937\n"
          ]
        }
      ],
      "source": [
        "# Code Block #1.2: Download, Install, and Setup PyRosetta\n",
        "\n",
        "!pip install pyrosettacolabsetup\n",
        "import pyrosettacolabsetup; pyrosettacolabsetup.install_pyrosetta()\n",
        "import pyrosetta; pyrosetta.init()"
      ]
    },
    {
      "cell_type": "markdown",
      "source": [
        "Now that you've completed the installation, you can use PyRosetta in any Colab notebook by running the following lines of code:"
      ],
      "metadata": {
        "id": "UKfGBACRifsy"
      }
    },
    {
      "cell_type": "code",
      "source": [
        "!pip install pyrosettacolabsetup\n",
        "import pyrosettacolabsetup; pyrosettacolabsetup.install_pyrosetta()\n",
        "import pyrosetta; pyrosetta.init()"
      ],
      "metadata": {
        "colab": {
          "base_uri": "https://localhost:8080/"
        },
        "id": "bdZeWX_6ii0o",
        "outputId": "f621f616-d369-4bd6-f1f0-2b04f6cf401c"
      },
      "execution_count": null,
      "outputs": [
        {
          "output_type": "stream",
          "name": "stdout",
          "text": [
            "Looking in indexes: https://pypi.org/simple, https://us-python.pkg.dev/colab-wheels/public/simple/\n",
            "Collecting pyrosettacolabsetup\n",
            "  Downloading pyrosettacolabsetup-1.0.6-py3-none-any.whl (4.7 kB)\n",
            "Installing collected packages: pyrosettacolabsetup\n",
            "Successfully installed pyrosettacolabsetup-1.0.6\n",
            "Mounted at /content/google_drive\n",
            "Looking for compatible PyRosetta wheel file at google-drive/PyRosetta/colab.bin/wheels...\n",
            "Found compatible wheel: /content/google_drive/MyDrive/PyRosetta/colab.bin/wheels//content/google_drive/MyDrive/PyRosetta/colab.bin/wheels/pyrosetta-2022.34+release.9ec33c9fe00-cp37-cp37m-linux_x86_64.whl\n",
            "Looking in indexes: https://pypi.org/simple, https://us-python.pkg.dev/colab-wheels/public/simple/\n",
            "\n",
            "\n",
            "PyRosetta-4 2022 [Rosetta PyRosetta4.MinSizeRel.python37.ubuntu 2022.34+release.9ec33c9fe00427e5b1b0393e84cd8062c07f104c 2022-08-24T09:49:27] retrieved from: http://www.pyrosetta.org\n",
            "(C) Copyright Rosetta Commons Member Institutions. Created in JHU by Sergey Lyskov and PyRosetta Team.\n",
            "core.init: Checking for fconfig files in pwd and ./rosetta/flags\n",
            "core.init: Rosetta version: PyRosetta4.MinSizeRel.python37.ubuntu r328 2022.34+release.9ec33c9fe00 9ec33c9fe00427e5b1b0393e84cd8062c07f104c http://www.pyrosetta.org 2022-08-24T09:49:27\n",
            "core.init: command: PyRosetta -ex1 -ex2aro -database /usr/local/lib/python3.7/dist-packages/pyrosetta/database\n",
            "basic.random.init_random_generator: 'RNG device' seed mode, using '/dev/urandom', seed=8772990 seed_offset=0 real_seed=8772990\n",
            "basic.random.init_random_generator: RandomGenerator:init: Normal mode, seed=8772990 RG_type=mt19937\n"
          ]
        }
      ]
    },
    {
      "cell_type": "markdown",
      "source": [
        "# **2. PyRosetta Workshop:**\n",
        "\n",
        "Here, you'll learn how to:\n",
        "\n",
        "*   **Load** a ligand into PyRosetta\n",
        "*   **Visualize** the actions of PyRosetta\n",
        "*   **Repack** residues\n",
        "*   **Mutate** residues\n",
        "*   **Create** your own schemes to mutate residues"
      ],
      "metadata": {
        "id": "lRgtHEJwijE8"
      }
    },
    {
      "cell_type": "markdown",
      "source": [
        "####**2.1. Restart the runtime**\n",
        "\n",
        "  Find \"Runtime\" menu underneath the notebook title, next to \"Tools\"\n",
        "\n",
        "  Select \"Runtime -> Restart runtime\".\n",
        "\n",
        "  Make sure the runtime is set to Python 3.\n",
        "\n",
        "  Check using \"Runtime -> Check runtime type\".\n",
        "\n",
        "  (There is no Code Block #2.1.)"
      ],
      "metadata": {
        "id": "7oi_llOEGbz2"
      }
    },
    {
      "cell_type": "markdown",
      "source": [
        "####**2.2. [ONLY ONCE] Clone the PyRosetta_Tutorial_2022 folder**\n",
        "\n",
        "  Run Code Block #2.2.\n",
        "\n",
        "  Access Github to retrieve the tutorial folder.\n",
        "\n",
        "  This folder contains the files necessary to complete the tutorial (e.g., PDB files)\n",
        "\n",
        "  **You only have to do this once!**\n",
        "\n",
        "  **Ignore this step in future uses of PyRosetta beyond this tutorial.**"
      ],
      "metadata": {
        "id": "qx0qFNdCGj1s"
      }
    },
    {
      "cell_type": "code",
      "source": [
        "# Code Block #2.2\n",
        "\n",
        "import os\n",
        "\n",
        "#into content folder of colaboratory, not in drive\n",
        "\n",
        "!git clone -b master https://github.com/remiakindele/PyRosetta_Tutorial_2022\n",
        "os.chdir('PyRosetta_Tutorial_2022')\n",
        "print(os.getcwd())"
      ],
      "metadata": {
        "id": "07GgfZXTGmVR",
        "colab": {
          "base_uri": "https://localhost:8080/"
        },
        "outputId": "1c8aab19-7cbf-41f8-ae04-ce166fffb9ca"
      },
      "execution_count": null,
      "outputs": [
        {
          "output_type": "stream",
          "name": "stdout",
          "text": [
            "fatal: destination path 'PyRosetta_Tutorial_2022' already exists and is not an empty directory.\n"
          ]
        }
      ]
    },
    {
      "cell_type": "markdown",
      "source": [
        "####**2.3. Load PyRosetta**"
      ],
      "metadata": {
        "id": "gsGZrL-fGzpG"
      }
    },
    {
      "cell_type": "code",
      "source": [
        "# Code Block #2.3\n",
        "\n",
        "from pyrosetta import *\n",
        "from google.colab import files\n",
        "init()\n",
        "print('Done!')\n",
        "os.chdir('PyRosetta_Tutorial_2022')\n",
        "print(os.getcwd())"
      ],
      "metadata": {
        "colab": {
          "base_uri": "https://localhost:8080/"
        },
        "id": "_jMFxHJzG0P5",
        "outputId": "48ad3e63-7269-497c-fefa-3f7ca8bf9d0f"
      },
      "execution_count": null,
      "outputs": [
        {
          "output_type": "stream",
          "name": "stdout",
          "text": [
            "PyRosetta-4 2022 [Rosetta PyRosetta4.MinSizeRel.python37.ubuntu 2022.34+release.9ec33c9fe00427e5b1b0393e84cd8062c07f104c 2022-08-24T09:49:27] retrieved from: http://www.pyrosetta.org\n",
            "(C) Copyright Rosetta Commons Member Institutions. Created in JHU by Sergey Lyskov and PyRosetta Team.\n",
            "core.init: Checking for fconfig files in pwd and ./rosetta/flags\n",
            "core.init: Rosetta version: PyRosetta4.MinSizeRel.python37.ubuntu r328 2022.34+release.9ec33c9fe00 9ec33c9fe00427e5b1b0393e84cd8062c07f104c http://www.pyrosetta.org 2022-08-24T09:49:27\n",
            "core.init: command: PyRosetta -ex1 -ex2aro -database /usr/local/lib/python3.7/dist-packages/pyrosetta/database\n",
            "basic.random.init_random_generator: 'RNG device' seed mode, using '/dev/urandom', seed=-1682244865 seed_offset=0 real_seed=-1682244865\n",
            "basic.random.init_random_generator: RandomGenerator:init: Normal mode, seed=-1682244865 RG_type=mt19937\n",
            "Done!\n",
            "/content/PyRosetta_Tutorial_2022\n"
          ]
        }
      ]
    },
    {
      "cell_type": "markdown",
      "source": [
        "####**2.4. Alter a Protein with Pyrosetta**\n",
        "\n",
        "  PyRosetta should be all set up now! **Every time you lose connection and restart a session in Colab, you will have to repeat steps, 1.1, 1.3, 1.4, 2.1, and 2.3** (and 2.2 if you want to use the .pdb and .mdl files from the \"Pyrosetta_Tutorial_20420\" folder). In your project colab files, you could make your own code block with \n",
        "\n",
        "  Follow the steps below and edit them to your satisfaction to make your own protein mutants!"
      ],
      "metadata": {
        "id": "brE4fyJuG3QX"
      }
    },
    {
      "cell_type": "markdown",
      "source": [
        "<h3> Now let's load a receptor-ligand pair </h3>\n"
      ],
      "metadata": {
        "id": "mo1cuqKqG637"
      }
    },
    {
      "cell_type": "code",
      "source": [
        "# Code Block #2.4.1\n",
        "\n",
        "pose = pose_from_pdb('2AVX_pyrrolysine.pdb')"
      ],
      "metadata": {
        "colab": {
          "base_uri": "https://localhost:8080/",
          "height": 962
        },
        "id": "eGSuakHDG5qA",
        "outputId": "4e0a6214-c146-4b7e-cc93-916cd05e52ee"
      },
      "execution_count": null,
      "outputs": [
        {
          "output_type": "stream",
          "name": "stdout",
          "text": [
            "core.chemical.GlobalResidueTypeSet: Finished initializing fa_standard residue type set.  Created 985 residue types\n",
            "core.chemical.GlobalResidueTypeSet: Total time to initialize 0.902074 seconds.\n",
            "core.import_pose.import_pose: File '2AVX_pyrrolysine.pdb' automatically determined to be of type PDB\n",
            "core.chemical.GlobalResidueTypeSet: Loading (but possibly not actually using) 'LG1' from the PDB components dictionary for residue type 'pdb_LG1'\n",
            "core.io.pose_from_sfr.PoseFromSFRBuilder: [ WARNING ] discarding 3 atoms at position 1 in file 2AVX_pyrrolysine.pdb. Best match rsd_type:  MET:NtermProteinFull\n",
            "core.io.pose_from_sfr.PoseFromSFRBuilder: [ WARNING ] discarding 36 atoms at position 172 in file 2AVX_pyrrolysine.pdb. Best match rsd_type:  pdb_LG1\n",
            "core.conformation.Conformation: [ WARNING ] missing heavyatom: C05 on residue pdb_LG1 172\n",
            "core.conformation.Conformation: [ WARNING ] missing heavyatom: C06 on residue pdb_LG1 172\n",
            "core.conformation.Conformation: [ WARNING ] missing heavyatom: C01 on residue pdb_LG1 172\n",
            "core.conformation.Conformation: [ WARNING ] missing heavyatom: N14 on residue pdb_LG1 172\n",
            "core.conformation.Conformation: [ WARNING ] missing heavyatom: C13 on residue pdb_LG1 172\n",
            "core.conformation.Conformation: [ WARNING ] missing heavyatom: C18 on residue pdb_LG1 172\n",
            "core.conformation.Conformation: [ WARNING ] missing heavyatom: C17 on residue pdb_LG1 172\n",
            "core.conformation.Conformation: [ WARNING ] missing heavyatom: C16 on residue pdb_LG1 172\n",
            "core.conformation.Conformation: [ WARNING ] missing heavyatom: C15 on residue pdb_LG1 172\n",
            "core.conformation.Conformation: [ WARNING ] missing heavyatom: C19 on residue pdb_LG1 172\n",
            "core.conformation.Conformation: [ WARNING ] missing heavyatom: C20 on residue pdb_LG1 172\n",
            "core.conformation.Conformation: [ WARNING ] missing heavyatom: C21 on residue pdb_LG1 172\n",
            "core.conformation.Conformation: [ WARNING ] missing heavyatom: F30 on residue pdb_LG1 172\n",
            "core.conformation.Conformation: [ WARNING ] missing heavyatom: C22 on residue pdb_LG1 172\n",
            "core.conformation.Conformation: [ WARNING ] missing heavyatom: C23 on residue pdb_LG1 172\n",
            "core.conformation.Conformation: [ WARNING ] missing heavyatom: C24 on residue pdb_LG1 172\n",
            "core.conformation.Conformation: [ WARNING ] missing heavyatom: NP5 on residue pdb_LG1 172\n",
            "core.conformation.Conformation: [ WARNING ] missing heavyatom: C02 on residue pdb_LG1 172\n",
            "core.conformation.Conformation: [ WARNING ] missing heavyatom: C03 on residue pdb_LG1 172\n",
            "core.conformation.Conformation: [ WARNING ] missing heavyatom: C04 on residue pdb_LG1 172\n",
            "core.conformation.Conformation: [ WARNING ] missing heavyatom: F08 on residue pdb_LG1 172\n",
            "core.conformation.Conformation: [ WARNING ] missing heavyatom: C34 on residue pdb_LG1 172\n",
            "core.conformation.Conformation: [ WARNING ] missing heavyatom: C27 on residue pdb_LG1 172\n",
            "core.conformation.Conformation: [ WARNING ] missing heavyatom: C33 on residue pdb_LG1 172\n"
          ]
        },
        {
          "output_type": "error",
          "ename": "RuntimeError",
          "evalue": "ignored",
          "traceback": [
            "\u001b[0;31m---------------------------------------------------------------------------\u001b[0m",
            "\u001b[0;31mRuntimeError\u001b[0m                              Traceback (most recent call last)",
            "\u001b[0;32m<ipython-input-2-eff82a9f8e6a>\u001b[0m in \u001b[0;36m<module>\u001b[0;34m\u001b[0m\n\u001b[1;32m      1\u001b[0m \u001b[0;31m# Code Block #2.4.1\u001b[0m\u001b[0;34m\u001b[0m\u001b[0;34m\u001b[0m\u001b[0;34m\u001b[0m\u001b[0m\n\u001b[1;32m      2\u001b[0m \u001b[0;34m\u001b[0m\u001b[0m\n\u001b[0;32m----> 3\u001b[0;31m \u001b[0mpose\u001b[0m \u001b[0;34m=\u001b[0m \u001b[0mpose_from_pdb\u001b[0m\u001b[0;34m(\u001b[0m\u001b[0;34m'2AVX_pyrrolysine.pdb'\u001b[0m\u001b[0;34m)\u001b[0m\u001b[0;34m\u001b[0m\u001b[0;34m\u001b[0m\u001b[0m\n\u001b[0m",
            "\u001b[0;32m/usr/local/lib/python3.7/dist-packages/pyrosetta/io/__init__.py\u001b[0m in \u001b[0;36mpose_from_pdb\u001b[0;34m(filename)\u001b[0m\n\u001b[1;32m     18\u001b[0m \u001b[0;31m# because otherwise, it wrecks a lot of people's scripts.  ~Labonte\u001b[0m\u001b[0;34m\u001b[0m\u001b[0;34m\u001b[0m\u001b[0;34m\u001b[0m\u001b[0m\n\u001b[1;32m     19\u001b[0m \u001b[0;32mdef\u001b[0m \u001b[0mpose_from_pdb\u001b[0m\u001b[0;34m(\u001b[0m\u001b[0mfilename\u001b[0m\u001b[0;34m)\u001b[0m\u001b[0;34m:\u001b[0m\u001b[0;34m\u001b[0m\u001b[0;34m\u001b[0m\u001b[0m\n\u001b[0;32m---> 20\u001b[0;31m     \u001b[0;32mreturn\u001b[0m \u001b[0mpose_from_file\u001b[0m\u001b[0;34m(\u001b[0m\u001b[0mfilename\u001b[0m\u001b[0;34m)\u001b[0m\u001b[0;34m\u001b[0m\u001b[0;34m\u001b[0m\u001b[0m\n\u001b[0m\u001b[1;32m     21\u001b[0m \u001b[0;34m\u001b[0m\u001b[0m\n\u001b[1;32m     22\u001b[0m \u001b[0;34m\u001b[0m\u001b[0m\n",
            "\u001b[0;31mRuntimeError\u001b[0m: \n\nFile: /home/benchmark/rosetta/source/src/core/conformation/Conformation.cc:1855\n[ ERROR ] UtilityExitException\nERROR: too many tries in fill_missing_atoms!\n\n"
          ]
        }
      ]
    },
    {
      "cell_type": "markdown",
      "source": [
        "<h3>That error is wildly uninformative.</h3>\n",
        "<p> Turns out my ligand (Pyrrolysine) has nonstandard atoms (not CA, NH, etc). Let's make Rosetta cool with that by giving it parameters for these non-standard residues </p>"
      ],
      "metadata": {
        "id": "c48KZ-bHHIUw"
      }
    },
    {
      "cell_type": "code",
      "source": [
        "# Code Block #2.4.2\n",
        "\n",
        "# First, use Open Babel to convert your ligand pdb file into an mdl file\n",
        "\n",
        "files.download('pyrrolysine.pdb')\n",
        "\n",
        "# Install openbabel on your own computer from https://openbabel.org/docs/dev/Installation/install.html. \n",
        "# Run in the command line from your Downloads folder:\n",
        "# obabel pyrrolysine.pdb -Opyrrolysine.mdl\n"
      ],
      "metadata": {
        "id": "ay8dVM9pnq2s",
        "colab": {
          "base_uri": "https://localhost:8080/",
          "height": 17
        },
        "outputId": "d09a6eb1-2f13-4423-84db-8e9fbdb11c82"
      },
      "execution_count": null,
      "outputs": [
        {
          "output_type": "display_data",
          "data": {
            "text/plain": [
              "<IPython.core.display.Javascript object>"
            ],
            "application/javascript": [
              "\n",
              "    async function download(id, filename, size) {\n",
              "      if (!google.colab.kernel.accessAllowed) {\n",
              "        return;\n",
              "      }\n",
              "      const div = document.createElement('div');\n",
              "      const label = document.createElement('label');\n",
              "      label.textContent = `Downloading \"${filename}\": `;\n",
              "      div.appendChild(label);\n",
              "      const progress = document.createElement('progress');\n",
              "      progress.max = size;\n",
              "      div.appendChild(progress);\n",
              "      document.body.appendChild(div);\n",
              "\n",
              "      const buffers = [];\n",
              "      let downloaded = 0;\n",
              "\n",
              "      const channel = await google.colab.kernel.comms.open(id);\n",
              "      // Send a message to notify the kernel that we're ready.\n",
              "      channel.send({})\n",
              "\n",
              "      for await (const message of channel.messages) {\n",
              "        // Send a message to notify the kernel that we're ready.\n",
              "        channel.send({})\n",
              "        if (message.buffers) {\n",
              "          for (const buffer of message.buffers) {\n",
              "            buffers.push(buffer);\n",
              "            downloaded += buffer.byteLength;\n",
              "            progress.value = downloaded;\n",
              "          }\n",
              "        }\n",
              "      }\n",
              "      const blob = new Blob(buffers, {type: 'application/binary'});\n",
              "      const a = document.createElement('a');\n",
              "      a.href = window.URL.createObjectURL(blob);\n",
              "      a.download = filename;\n",
              "      div.appendChild(a);\n",
              "      a.click();\n",
              "      div.remove();\n",
              "    }\n",
              "  "
            ]
          },
          "metadata": {}
        },
        {
          "output_type": "display_data",
          "data": {
            "text/plain": [
              "<IPython.core.display.Javascript object>"
            ],
            "application/javascript": [
              "download(\"download_f5c3427e-e847-498d-8aa3-d6f54cf04927\", \"pyrrolysine.pdb\", 4113)"
            ]
          },
          "metadata": {}
        }
      ]
    },
    {
      "cell_type": "code",
      "source": [
        "# Code Block #2.4.3\n",
        "\n",
        "# Upload your .mdl file\n",
        "#files.upload()\n",
        "\n",
        "# Let's convert the mdl file to a parameter file that Rosetta is cool with\n",
        "# Output will be LG.params, your parameters file, and LG_001.pdb, a pdb file you probably won't use.\n",
        "\n",
        "!chmod 755 -R molfile2params/molfile_to_params_python3.py\n",
        "!molfile2params/molfile_to_params_python3.py pyrrolysine.mdl --clobber\n"
      ],
      "metadata": {
        "colab": {
          "base_uri": "https://localhost:8080/"
        },
        "id": "byfzeN-lHbpf",
        "outputId": "d4ba8f53-149c-44e8-b52e-f8221090a6cb"
      },
      "execution_count": null,
      "outputs": [
        {
          "output_type": "stream",
          "name": "stdout",
          "text": [
            "Centering ligands at (   0.478,   -5.967,   -6.933)\n",
            "Atom names contain duplications -- renaming all atoms.\n",
            "WARNING:  structure contains double bonds but no aromatic bonds\n",
            "  Aromatic bonds must be identified explicitly --\n",
            "  alternating single/double bonds (Kekule structure) won't cut it.\n",
            "  This warning does not apply to you if your molecule really isn't aromatic.\n",
            "Total naive charge -0.535, desired charge 0.000, offsetting all atoms by 0.014\n",
            "WARNING: fragment 1 has 39 total atoms including H; protein residues have 7 - 24 (DNA: 33)\n",
            "WARNING: fragment 1 has 9 rotatable bonds; protein residues have 0 - 4\n",
            "Average 39.0 atoms (18.0 non-H atoms) per fragment\n",
            "(Proteins average 15.5 atoms (7.8 non-H atoms) per residue)\n",
            "WARNING:  no root atom specified, using auto-selected NBR atom instead.\n",
            "Wrote params file LG.params\n",
            "Wrote PDB file LG_0001.pdb\n"
          ]
        }
      ]
    },
    {
      "cell_type": "markdown",
      "source": [
        "<p> After running the next cell, you should be able to run any cell out of order in the rest of the presentation </p>"
      ],
      "metadata": {
        "id": "NhPWYFFnHpol"
      }
    },
    {
      "cell_type": "code",
      "source": [
        "# Code Block #2.4.4\n",
        "\n",
        "# Load up the parameters\n",
        "params_list = ['LG.params']\n",
        "pose = Pose()\n",
        "generate_nonstandard_residue_set(pose, params_list)\n",
        "\n",
        "# Import your ligand-receptor pdb file \n",
        "pose_from_file(pose,'2AVX_pyrrolysine.pdb')\n",
        "scorefxn = get_fa_scorefxn()"
      ],
      "metadata": {
        "colab": {
          "base_uri": "https://localhost:8080/"
        },
        "id": "57eiB_XUHtAj",
        "outputId": "13d71584-ad45-4cb7-f9d0-33088ecb2585"
      },
      "execution_count": null,
      "outputs": [
        {
          "output_type": "stream",
          "name": "stdout",
          "text": [
            "core.conformation.Conformation: [ WARNING ] Attempted to determine the residue type set of an empty pose.\n",
            "core.conformation.Conformation: [ WARNING ] Attempted to determine the residue type set of an empty pose.\n",
            "core.import_pose.import_pose: File '2AVX_pyrrolysine.pdb' automatically determined to be of type PDB\n",
            "core.io.pose_from_sfr.PoseFromSFRBuilder: [ WARNING ] discarding 3 atoms at position 1 in file 2AVX_pyrrolysine.pdb. Best match rsd_type:  MET:NtermProteinFull\n",
            "core.scoring.ScoreFunctionFactory: SCOREFUNCTION: ref2015\n",
            "core.scoring.etable: Starting energy table calculation\n",
            "core.scoring.etable: smooth_etable: changing atr/rep split to bottom of energy well\n",
            "core.scoring.etable: smooth_etable: spline smoothing lj etables (maxdis = 6)\n",
            "core.scoring.etable: smooth_etable: spline smoothing solvation etables (max_dis = 6)\n",
            "core.scoring.etable: Finished calculating energy tables.\n",
            "basic.io.database: Database file opened: scoring/score_functions/hbonds/ref2015_params/HBPoly1D.csv\n",
            "basic.io.database: Database file opened: scoring/score_functions/hbonds/ref2015_params/HBFadeIntervals.csv\n",
            "basic.io.database: Database file opened: scoring/score_functions/hbonds/ref2015_params/HBEval.csv\n",
            "basic.io.database: Database file opened: scoring/score_functions/hbonds/ref2015_params/DonStrength.csv\n",
            "basic.io.database: Database file opened: scoring/score_functions/hbonds/ref2015_params/AccStrength.csv\n",
            "basic.io.database: Database file opened: scoring/score_functions/rama/fd/all.ramaProb\n",
            "basic.io.database: Database file opened: scoring/score_functions/rama/fd/prepro.ramaProb\n",
            "basic.io.database: Database file opened: scoring/score_functions/omega/omega_ppdep.all.txt\n",
            "basic.io.database: Database file opened: scoring/score_functions/omega/omega_ppdep.gly.txt\n",
            "basic.io.database: Database file opened: scoring/score_functions/omega/omega_ppdep.pro.txt\n",
            "basic.io.database: Database file opened: scoring/score_functions/omega/omega_ppdep.valile.txt\n",
            "basic.io.database: Database file opened: scoring/score_functions/P_AA_pp/P_AA\n",
            "basic.io.database: Database file opened: scoring/score_functions/P_AA_pp/P_AA_n\n",
            "core.scoring.P_AA: shapovalov_lib::shap_p_aa_pp_smooth_level of 1( aka low_smooth ) got activated.\n",
            "basic.io.database: Database file opened: scoring/score_functions/P_AA_pp/shapovalov/10deg/kappa131/a20.prop\n"
          ]
        }
      ]
    },
    {
      "cell_type": "markdown",
      "source": [
        "<h3> Let's repack some sidechains without making mutations </h3>\n",
        "<p> First, we're using a MinMover to find a local energy minimum. The mover is constrained by a MoveMap, which specifies the acceptable backbone angles it can explore. We use PyRosetta's full atom score function as a proxy for free energy of a structure.You can do other things, like manually change backbone angles (phi/psi), and swap rotamers (see PyRosetta Workshop 5 & 6 for more).\n",
        "  \n",
        " <br>Then we'll use a protocol from the Baker lab, FastRelax, that's probably better than anything we would write ourselves to repack sidechains and adjust backbone angles. It does take several minutes, though.\n",
        "</p>\n",
        "<p> FastRelax is described here: http://dx.doi.org/10.1016/j.jmb.2010.11.008\n",
        "</p>"
      ],
      "metadata": {
        "id": "MCsOcjA6Htsu"
      }
    },
    {
      "cell_type": "code",
      "source": [
        "# Code Block #2.4.5\n",
        "\n",
        "min_mover = rosetta.protocols.minimization_packing.MinMover()\n",
        "move_map = MoveMap()\n",
        "move_map.set_bb_true_range(40,130)\n",
        "min_mover.movemap(move_map)\n",
        "min_mover.score_function(scorefxn)\n",
        "\n",
        "pose_min_move = Pose()\n",
        "pose_min_move.assign(pose)\n",
        "\n",
        "min_mover.apply(pose_min_move)\n",
        "\n",
        "print('Original Energy: %.2f' % scorefxn(pose))\n",
        "print('Energy after min_mover: %.2f' % scorefxn(pose_min_move))\n",
        "\n",
        "\n",
        "# More info about lots of movers and a GUI version of pyrosetta here: \n",
        "# http://dx.doi.org/10.1371/journal.pone.0066856"
      ],
      "metadata": {
        "colab": {
          "base_uri": "https://localhost:8080/"
        },
        "id": "usTGWrB9HwWB",
        "outputId": "23fc3d11-a843-4392-ef90-1d6bfa1d690c"
      },
      "execution_count": null,
      "outputs": [
        {
          "output_type": "stream",
          "name": "stdout",
          "text": [
            "basic.io.database: Database file opened: scoring/score_functions/elec_cp_reps.dat\n",
            "core.scoring.elec.util: Read 40 countpair representative atoms\n",
            "core.pack.dunbrack.RotamerLibrary: shapovalov_lib_fixes_enable option is true.\n",
            "core.pack.dunbrack.RotamerLibrary: shapovalov_lib::shap_dun10_smooth_level of 1( aka lowest_smooth ) got activated.\n",
            "core.pack.dunbrack.RotamerLibrary: Binary rotamer library selected: /usr/local/lib/python3.7/dist-packages/pyrosetta/database/rotamer/shapovalov/StpDwn_0-0-0/Dunbrack10.lib.bin\n",
            "core.pack.dunbrack.RotamerLibrary: Using Dunbrack library binary file '/usr/local/lib/python3.7/dist-packages/pyrosetta/database/rotamer/shapovalov/StpDwn_0-0-0/Dunbrack10.lib.bin'.\n",
            "core.pack.dunbrack.RotamerLibrary: Dunbrack 2010 library took 0.232361 seconds to load from binary\n",
            "Original Energy: 444.33\n",
            "Energy after min_mover: 238.80\n"
          ]
        }
      ]
    },
    {
      "cell_type": "markdown",
      "source": [
        "<h3> Now let's check out FastRelax </h3>"
      ],
      "metadata": {
        "id": "u8hBKI_PH2In"
      }
    },
    {
      "cell_type": "code",
      "source": [
        "# Code Block #2.4.6\n",
        "\n",
        "fast_relax =rosetta.protocols.relax.FastRelax()\n",
        "fast_relax.set_scorefxn(scorefxn)\n",
        "\n",
        "pose_fast_relax = Pose()\n",
        "pose_fast_relax.assign(pose)\n",
        "fast_relax.apply(pose_fast_relax)\n",
        "\n",
        "print('Original Energy: %.2f' % scorefxn(pose))\n",
        "print('Energy after fast relax: %.2f' % scorefxn(pose_fast_relax))"
      ],
      "metadata": {
        "colab": {
          "base_uri": "https://localhost:8080/"
        },
        "id": "lHir-P-7xWDV",
        "outputId": "1302899e-9d38-4308-d91a-4d213454de2c"
      },
      "execution_count": null,
      "outputs": [
        {
          "output_type": "stream",
          "name": "stdout",
          "text": [
            "protocols.relax.RelaxScriptManager: Reading relax scripts list from database.\n",
            "core.scoring.ScoreFunctionFactory: SCOREFUNCTION: ref2015\n",
            "protocols.relax.RelaxScriptManager: Looking for MonomerRelax2019.txt\n",
            "protocols.relax.RelaxScriptManager: ================== Reading script file: /usr/local/lib/python3.7/dist-packages/pyrosetta/database/sampling/relax_scripts/MonomerRelax2019.txt ==================\n",
            "protocols.relax.RelaxScriptManager: repeat %%nrepeats%%\n",
            "protocols.relax.RelaxScriptManager: coord_cst_weight 1.0\n",
            "protocols.relax.RelaxScriptManager: scale:fa_rep 0.040\n",
            "protocols.relax.RelaxScriptManager: repack\n",
            "protocols.relax.RelaxScriptManager: scale:fa_rep 0.051\n",
            "protocols.relax.RelaxScriptManager: min 0.01\n",
            "protocols.relax.RelaxScriptManager: coord_cst_weight 0.5\n",
            "protocols.relax.RelaxScriptManager: scale:fa_rep 0.265\n",
            "protocols.relax.RelaxScriptManager: repack\n",
            "protocols.relax.RelaxScriptManager: scale:fa_rep 0.280\n",
            "protocols.relax.RelaxScriptManager: min 0.01\n",
            "protocols.relax.RelaxScriptManager: coord_cst_weight 0.0\n",
            "protocols.relax.RelaxScriptManager: scale:fa_rep 0.559\n",
            "protocols.relax.RelaxScriptManager: repack\n",
            "protocols.relax.RelaxScriptManager: scale:fa_rep 0.581\n",
            "protocols.relax.RelaxScriptManager: min 0.01\n",
            "protocols.relax.RelaxScriptManager: coord_cst_weight 0.0\n",
            "protocols.relax.RelaxScriptManager: scale:fa_rep 1\n",
            "protocols.relax.RelaxScriptManager: repack\n",
            "protocols.relax.RelaxScriptManager: min 0.00001\n",
            "protocols.relax.RelaxScriptManager: accept_to_best\n",
            "protocols.relax.RelaxScriptManager: endrepeat\n",
            "protocols.relax.FastRelax: CMD: repeat  444.333  0  0  0.55\n",
            "protocols.relax.FastRelax: CMD: coord_cst_weight  444.333  0  0  0.55\n",
            "protocols.relax.FastRelax: CMD: scale:fa_rep  208.41  0  0  0.022\n",
            "core.pack.task: Packer task: initialize from command line()\n",
            "core.pack.rotamer_set.RotamerSet_: Using simple Rotamer generation logic for LG1\n",
            "core.pack.pack_rotamers: built 5076 rotamers at 172 positions.\n",
            "core.pack.interaction_graph.interaction_graph_factory: Instantiating DensePDInteractionGraph\n",
            "protocols.relax.FastRelax: CMD: repack  -279.493  0  0  0.022\n",
            "protocols.relax.FastRelax: CMD: scale:fa_rep  -266.097  0  0  0.02805\n",
            "protocols.relax.FastRelax: CMD: min  -612.704  1.39818  1.39818  0.02805\n",
            "protocols.relax.FastRelax: CMD: coord_cst_weight  -612.704  1.39818  1.39818  0.02805\n",
            "protocols.relax.FastRelax: CMD: scale:fa_rep  -260.517  1.39818  1.39818  0.14575\n",
            "core.pack.task: Packer task: initialize from command line()\n",
            "core.pack.rotamer_set.RotamerSet_: Using simple Rotamer generation logic for LG1\n",
            "core.pack.pack_rotamers: built 4697 rotamers at 172 positions.\n",
            "core.pack.interaction_graph.interaction_graph_factory: Instantiating DensePDInteractionGraph\n",
            "protocols.relax.FastRelax: CMD: repack  -301.252  1.39818  1.39818  0.14575\n",
            "protocols.relax.FastRelax: CMD: scale:fa_rep  -281.619  1.39818  1.39818  0.154\n",
            "protocols.relax.FastRelax: CMD: min  -481.201  1.23669  1.23669  0.154\n",
            "protocols.relax.FastRelax: CMD: coord_cst_weight  -481.201  1.23669  1.23669  0.154\n",
            "protocols.relax.FastRelax: CMD: scale:fa_rep  -386.635  1.23669  1.23669  0.30745\n",
            "core.pack.task: Packer task: initialize from command line()\n",
            "core.pack.rotamer_set.RotamerSet_: Using simple Rotamer generation logic for LG1\n",
            "core.pack.pack_rotamers: built 4629 rotamers at 172 positions.\n",
            "core.pack.interaction_graph.interaction_graph_factory: Instantiating DensePDInteractionGraph\n",
            "protocols.relax.FastRelax: CMD: repack  -387.838  1.23669  1.23669  0.30745\n",
            "protocols.relax.FastRelax: CMD: scale:fa_rep  -380.532  1.23669  1.23669  0.31955\n",
            "protocols.relax.FastRelax: CMD: min  -412.123  1.19777  1.19777  0.31955\n",
            "protocols.relax.FastRelax: CMD: coord_cst_weight  -412.123  1.19777  1.19777  0.31955\n",
            "protocols.relax.FastRelax: CMD: scale:fa_rep  -333.86  1.19777  1.19777  0.55\n",
            "core.pack.task: Packer task: initialize from command line()\n",
            "core.pack.rotamer_set.RotamerSet_: Using simple Rotamer generation logic for LG1\n",
            "core.pack.pack_rotamers: built 4189 rotamers at 172 positions.\n",
            "core.pack.interaction_graph.interaction_graph_factory: Instantiating DensePDInteractionGraph\n",
            "protocols.relax.FastRelax: CMD: repack  -334.021  1.19777  1.19777  0.55\n",
            "protocols.relax.FastRelax: CMD: min  -382.652  1.42229  1.42229  0.55\n",
            "protocols.relax.FastRelax: MRP: 0  -382.652  -382.652  1.42229  1.42229\n",
            "protocols.relax.FastRelax: CMD: accept_to_best  -382.652  1.42229  1.42229  0.55\n",
            "protocols.relax.FastRelax: CMD: endrepeat  -382.652  1.42229  1.42229  0.55\n",
            "protocols.relax.FastRelax: CMD: coord_cst_weight  -382.652  1.42229  1.42229  0.55\n",
            "protocols.relax.FastRelax: CMD: scale:fa_rep  -490.31  1.42229  1.42229  0.022\n",
            "core.pack.task: Packer task: initialize from command line()\n",
            "core.pack.rotamer_set.RotamerSet_: Using simple Rotamer generation logic for LG1\n",
            "core.pack.pack_rotamers: built 5066 rotamers at 172 positions.\n",
            "core.pack.interaction_graph.interaction_graph_factory: Instantiating DensePDInteractionGraph\n",
            "protocols.relax.FastRelax: CMD: repack  -517.658  1.42229  1.42229  0.022\n",
            "protocols.relax.FastRelax: CMD: scale:fa_rep  -510.709  1.42229  1.42229  0.02805\n",
            "protocols.relax.FastRelax: CMD: min  -680.024  2.02644  2.02644  0.02805\n",
            "protocols.relax.FastRelax: CMD: coord_cst_weight  -680.024  2.02644  2.02644  0.02805\n",
            "protocols.relax.FastRelax: CMD: scale:fa_rep  -324.848  2.02644  2.02644  0.14575\n",
            "core.pack.task: Packer task: initialize from command line()\n",
            "core.pack.rotamer_set.RotamerSet_: Using simple Rotamer generation logic for LG1\n",
            "core.pack.pack_rotamers: built 4677 rotamers at 172 positions.\n",
            "core.pack.interaction_graph.interaction_graph_factory: Instantiating DensePDInteractionGraph\n",
            "protocols.relax.FastRelax: CMD: repack  -358.313  2.02644  2.02644  0.14575\n",
            "protocols.relax.FastRelax: CMD: scale:fa_rep  -338.649  2.02644  2.02644  0.154\n",
            "protocols.relax.FastRelax: CMD: min  -521.201  1.89955  1.89955  0.154\n",
            "protocols.relax.FastRelax: CMD: coord_cst_weight  -521.201  1.89955  1.89955  0.154\n",
            "protocols.relax.FastRelax: CMD: scale:fa_rep  -424.562  1.89955  1.89955  0.30745\n",
            "core.pack.task: Packer task: initialize from command line()\n",
            "core.pack.rotamer_set.RotamerSet_: Using simple Rotamer generation logic for LG1\n",
            "core.pack.pack_rotamers: built 4458 rotamers at 172 positions.\n",
            "core.pack.interaction_graph.interaction_graph_factory: Instantiating DensePDInteractionGraph\n",
            "protocols.relax.FastRelax: CMD: repack  -425.757  1.89955  1.89955  0.30745\n",
            "protocols.relax.FastRelax: CMD: scale:fa_rep  -418.414  1.89955  1.89955  0.31955\n",
            "protocols.relax.FastRelax: CMD: min  -447.695  1.81115  1.81115  0.31955\n",
            "protocols.relax.FastRelax: CMD: coord_cst_weight  -447.695  1.81115  1.81115  0.31955\n",
            "protocols.relax.FastRelax: CMD: scale:fa_rep  -366.471  1.81115  1.81115  0.55\n",
            "core.pack.task: Packer task: initialize from command line()\n",
            "core.pack.rotamer_set.RotamerSet_: Using simple Rotamer generation logic for LG1\n",
            "core.pack.pack_rotamers: built 4328 rotamers at 172 positions.\n",
            "core.pack.interaction_graph.interaction_graph_factory: Instantiating DensePDInteractionGraph\n",
            "protocols.relax.FastRelax: CMD: repack  -366.582  1.81115  1.81115  0.55\n",
            "protocols.relax.FastRelax: CMD: min  -396.997  1.81498  1.81498  0.55\n",
            "protocols.relax.FastRelax: MRP: 1  -396.997  -396.997  1.81498  1.81498\n",
            "protocols.relax.FastRelax: CMD: accept_to_best  -396.997  1.81498  1.81498  0.55\n",
            "protocols.relax.FastRelax: CMD: endrepeat  -396.997  1.81498  1.81498  0.55\n",
            "protocols.relax.FastRelax: CMD: coord_cst_weight  -396.997  1.81498  1.81498  0.55\n",
            "protocols.relax.FastRelax: CMD: scale:fa_rep  -510.442  1.81498  1.81498  0.022\n",
            "core.pack.task: Packer task: initialize from command line()\n",
            "core.pack.rotamer_set.RotamerSet_: Using simple Rotamer generation logic for LG1\n",
            "core.pack.pack_rotamers: built 5172 rotamers at 172 positions.\n",
            "core.pack.interaction_graph.interaction_graph_factory: Instantiating DensePDInteractionGraph\n",
            "protocols.relax.FastRelax: CMD: repack  -533.856  1.81498  1.81498  0.022\n",
            "protocols.relax.FastRelax: CMD: scale:fa_rep  -527.15  1.81498  1.81498  0.02805\n",
            "protocols.relax.FastRelax: CMD: min  -681.371  2.27844  2.27844  0.02805\n",
            "protocols.relax.FastRelax: CMD: coord_cst_weight  -681.371  2.27844  2.27844  0.02805\n",
            "protocols.relax.FastRelax: CMD: scale:fa_rep  -347.355  2.27844  2.27844  0.14575\n",
            "core.pack.task: Packer task: initialize from command line()\n",
            "core.pack.rotamer_set.RotamerSet_: Using simple Rotamer generation logic for LG1\n",
            "core.pack.pack_rotamers: built 4695 rotamers at 172 positions.\n",
            "core.pack.interaction_graph.interaction_graph_factory: Instantiating DensePDInteractionGraph\n",
            "protocols.relax.FastRelax: CMD: repack  -365.158  2.27844  2.27844  0.14575\n",
            "protocols.relax.FastRelax: CMD: scale:fa_rep  -344.284  2.27844  2.27844  0.154\n",
            "protocols.relax.FastRelax: CMD: min  -530.842  1.99298  1.99298  0.154\n",
            "protocols.relax.FastRelax: CMD: coord_cst_weight  -530.842  1.99298  1.99298  0.154\n",
            "protocols.relax.FastRelax: CMD: scale:fa_rep  -436.439  1.99298  1.99298  0.30745\n",
            "core.pack.task: Packer task: initialize from command line()\n",
            "core.pack.rotamer_set.RotamerSet_: Using simple Rotamer generation logic for LG1\n",
            "core.pack.pack_rotamers: built 4512 rotamers at 172 positions.\n",
            "core.pack.interaction_graph.interaction_graph_factory: Instantiating DensePDInteractionGraph\n",
            "protocols.relax.FastRelax: CMD: repack  -438.12  1.99298  1.99298  0.30745\n",
            "protocols.relax.FastRelax: CMD: scale:fa_rep  -430.839  1.99298  1.99298  0.31955\n",
            "protocols.relax.FastRelax: CMD: min  -456.92  1.863  1.863  0.31955\n",
            "protocols.relax.FastRelax: CMD: coord_cst_weight  -456.92  1.863  1.863  0.31955\n",
            "protocols.relax.FastRelax: CMD: scale:fa_rep  -373.695  1.863  1.863  0.55\n",
            "core.pack.task: Packer task: initialize from command line()\n",
            "core.pack.rotamer_set.RotamerSet_: Using simple Rotamer generation logic for LG1\n",
            "core.pack.pack_rotamers: built 4345 rotamers at 172 positions.\n",
            "core.pack.interaction_graph.interaction_graph_factory: Instantiating DensePDInteractionGraph\n",
            "protocols.relax.FastRelax: CMD: repack  -373.782  1.863  1.863  0.55\n",
            "protocols.relax.FastRelax: CMD: min  -418.369  1.84271  1.84271  0.55\n",
            "protocols.relax.FastRelax: MRP: 2  -418.369  -418.369  1.84271  1.84271\n",
            "protocols.relax.FastRelax: CMD: accept_to_best  -418.369  1.84271  1.84271  0.55\n",
            "protocols.relax.FastRelax: CMD: endrepeat  -418.369  1.84271  1.84271  0.55\n",
            "protocols.relax.FastRelax: CMD: coord_cst_weight  -418.369  1.84271  1.84271  0.55\n",
            "protocols.relax.FastRelax: CMD: scale:fa_rep  -529.73  1.84271  1.84271  0.022\n",
            "core.pack.task: Packer task: initialize from command line()\n",
            "core.pack.rotamer_set.RotamerSet_: Using simple Rotamer generation logic for LG1\n",
            "core.pack.pack_rotamers: built 5179 rotamers at 172 positions.\n",
            "core.pack.interaction_graph.interaction_graph_factory: Instantiating DensePDInteractionGraph\n",
            "protocols.relax.FastRelax: CMD: repack  -546.313  1.84271  1.84271  0.022\n",
            "protocols.relax.FastRelax: CMD: scale:fa_rep  -541.512  1.84271  1.84271  0.02805\n",
            "protocols.relax.FastRelax: CMD: min  -681.514  2.17668  2.17668  0.02805\n",
            "protocols.relax.FastRelax: CMD: coord_cst_weight  -681.514  2.17668  2.17668  0.02805\n",
            "protocols.relax.FastRelax: CMD: scale:fa_rep  -362.333  2.17668  2.17668  0.14575\n",
            "core.pack.task: Packer task: initialize from command line()\n",
            "core.pack.rotamer_set.RotamerSet_: Using simple Rotamer generation logic for LG1\n",
            "core.pack.pack_rotamers: built 4729 rotamers at 172 positions.\n",
            "core.pack.interaction_graph.interaction_graph_factory: Instantiating DensePDInteractionGraph\n",
            "protocols.relax.FastRelax: CMD: repack  -387.102  2.17668  2.17668  0.14575\n",
            "protocols.relax.FastRelax: CMD: scale:fa_rep  -367.737  2.17668  2.17668  0.154\n",
            "protocols.relax.FastRelax: CMD: min  -542.488  1.94157  1.94157  0.154\n",
            "protocols.relax.FastRelax: CMD: coord_cst_weight  -542.488  1.94157  1.94157  0.154\n",
            "protocols.relax.FastRelax: CMD: scale:fa_rep  -450.158  1.94157  1.94157  0.30745\n",
            "core.pack.task: Packer task: initialize from command line()\n",
            "core.pack.rotamer_set.RotamerSet_: Using simple Rotamer generation logic for LG1\n",
            "core.pack.pack_rotamers: built 4550 rotamers at 172 positions.\n",
            "core.pack.interaction_graph.interaction_graph_factory: Instantiating DensePDInteractionGraph\n",
            "protocols.relax.FastRelax: CMD: repack  -451.039  1.94157  1.94157  0.30745\n",
            "protocols.relax.FastRelax: CMD: scale:fa_rep  -443.928  1.94157  1.94157  0.31955\n",
            "protocols.relax.FastRelax: CMD: min  -466.743  1.90466  1.90466  0.31955\n",
            "protocols.relax.FastRelax: CMD: coord_cst_weight  -466.743  1.90466  1.90466  0.31955\n",
            "protocols.relax.FastRelax: CMD: scale:fa_rep  -381.159  1.90466  1.90466  0.55\n",
            "core.pack.task: Packer task: initialize from command line()\n",
            "core.pack.rotamer_set.RotamerSet_: Using simple Rotamer generation logic for LG1\n",
            "core.pack.pack_rotamers: built 4312 rotamers at 172 positions.\n",
            "core.pack.interaction_graph.interaction_graph_factory: Instantiating DensePDInteractionGraph\n",
            "protocols.relax.FastRelax: CMD: repack  -381.493  1.90466  1.90466  0.55\n",
            "protocols.relax.FastRelax: CMD: min  -409.684  1.76683  1.76683  0.55\n",
            "protocols.relax.FastRelax: MRP: 3  -409.684  -418.369  1.84271  1.84271\n",
            "protocols.relax.FastRelax: CMD: accept_to_best  -409.684  1.76683  1.76683  0.55\n",
            "protocols.relax.FastRelax: CMD: endrepeat  -409.684  1.76683  1.76683  0.55\n",
            "protocols.relax.FastRelax: CMD: coord_cst_weight  -409.684  1.76683  1.76683  0.55\n",
            "protocols.relax.FastRelax: CMD: scale:fa_rep  -530.106  1.76683  1.76683  0.022\n",
            "core.pack.task: Packer task: initialize from command line()\n",
            "core.pack.rotamer_set.RotamerSet_: Using simple Rotamer generation logic for LG1\n",
            "core.pack.pack_rotamers: built 5229 rotamers at 172 positions.\n",
            "core.pack.interaction_graph.interaction_graph_factory: Instantiating DensePDInteractionGraph\n",
            "protocols.relax.FastRelax: CMD: repack  -552.715  1.76683  1.76683  0.022\n",
            "protocols.relax.FastRelax: CMD: scale:fa_rep  -548.672  1.76683  1.76683  0.02805\n",
            "protocols.relax.FastRelax: CMD: min  -678.668  2.15535  2.15535  0.02805\n",
            "protocols.relax.FastRelax: CMD: coord_cst_weight  -678.668  2.15535  2.15535  0.02805\n",
            "protocols.relax.FastRelax: CMD: scale:fa_rep  -366.632  2.15535  2.15535  0.14575\n",
            "core.pack.task: Packer task: initialize from command line()\n",
            "core.pack.rotamer_set.RotamerSet_: Using simple Rotamer generation logic for LG1\n",
            "core.pack.pack_rotamers: built 4733 rotamers at 172 positions.\n",
            "core.pack.interaction_graph.interaction_graph_factory: Instantiating DensePDInteractionGraph\n",
            "protocols.relax.FastRelax: CMD: repack  -404.105  2.15535  2.15535  0.14575\n",
            "protocols.relax.FastRelax: CMD: scale:fa_rep  -387.244  2.15535  2.15535  0.154\n",
            "protocols.relax.FastRelax: CMD: min  -539.805  1.95601  1.95601  0.154\n",
            "protocols.relax.FastRelax: CMD: coord_cst_weight  -539.805  1.95601  1.95601  0.154\n",
            "protocols.relax.FastRelax: CMD: scale:fa_rep  -448.523  1.95601  1.95601  0.30745\n",
            "core.pack.task: Packer task: initialize from command line()\n",
            "core.pack.rotamer_set.RotamerSet_: Using simple Rotamer generation logic for LG1\n",
            "core.pack.pack_rotamers: built 4587 rotamers at 172 positions.\n",
            "core.pack.interaction_graph.interaction_graph_factory: Instantiating DensePDInteractionGraph\n",
            "protocols.relax.FastRelax: CMD: repack  -449.865  1.95601  1.95601  0.30745\n",
            "protocols.relax.FastRelax: CMD: scale:fa_rep  -442.85  1.95601  1.95601  0.31955\n",
            "protocols.relax.FastRelax: CMD: min  -465.478  1.86045  1.86045  0.31955\n",
            "protocols.relax.FastRelax: CMD: coord_cst_weight  -465.478  1.86045  1.86045  0.31955\n",
            "protocols.relax.FastRelax: CMD: scale:fa_rep  -381.347  1.86045  1.86045  0.55\n",
            "core.pack.task: Packer task: initialize from command line()\n",
            "core.pack.rotamer_set.RotamerSet_: Using simple Rotamer generation logic for LG1\n",
            "core.pack.pack_rotamers: built 4344 rotamers at 172 positions.\n",
            "core.pack.interaction_graph.interaction_graph_factory: Instantiating DensePDInteractionGraph\n",
            "protocols.relax.FastRelax: CMD: repack  -381.799  1.86045  1.86045  0.55\n",
            "protocols.relax.FastRelax: CMD: min  -414.063  1.73175  1.73175  0.55\n",
            "protocols.relax.FastRelax: MRP: 4  -414.063  -418.369  1.84271  1.84271\n",
            "protocols.relax.FastRelax: CMD: accept_to_best  -414.063  1.73175  1.73175  0.55\n",
            "protocols.relax.FastRelax: CMD: endrepeat  -414.063  1.73175  1.73175  0.55\n",
            "protocols::checkpoint: Deleting checkpoints of FastRelax\n",
            "Original Energy: 444.33\n",
            "Energy after fast relax: -418.37\n"
          ]
        }
      ]
    },
    {
      "cell_type": "markdown",
      "source": [
        "<h3> Fast Relax dramatically decreases the energy </h3>\n",
        "<p> I'm not sure if this is true, but I think you could make almost any mutation, run FastRelax, and find a structure that is lower energy than your starting structure. So, you might want to start by running FastRelax to get a baseline for your protein. You could output the WT FastRelaxed protein and use it as your starting structure.\n",
        "</p>"
      ],
      "metadata": {
        "id": "0xb7GaMaH_Ee"
      }
    },
    {
      "cell_type": "markdown",
      "source": [
        "<h3> But we want to mutate residues, too! </h3>\n",
        "<p>\n",
        "For that, we'll use a Pack Mover. This uses simulated annealing and Metropolis/Monte Carlo to search for the best residue/rotamer.\n",
        "</p>"
      ],
      "metadata": {
        "id": "ft9rJDGlICNS"
      }
    },
    {
      "cell_type": "code",
      "source": [
        "# Code Block #2.4.7\n",
        "\n",
        "pose_pack_mover = Pose()\n",
        "pose_pack_mover.assign(pose)\n",
        "pose_pack_mover.pdb_info().name('pack_mover')\n",
        "\n",
        "task = standard_packer_task(pose_pack_mover)\n",
        "task.temporarily_fix_everything()\n",
        "task.temporarily_set_pack_residue(124, True)\n",
        "task.temporarily_set_pack_residue(123, True)\n",
        "\n",
        "pack_mover = rosetta.protocols.minimization_packing.PackRotamersMover(scorefxn, task)\n",
        "\n",
        "pack_mover.apply(pose_pack_mover)\n",
        "\n",
        "print('Original Score: %s' % scorefxn(pose))\n",
        "print('Score after mutating 124, 123: %s' % scorefxn(pose_pack_mover))"
      ],
      "metadata": {
        "colab": {
          "base_uri": "https://localhost:8080/"
        },
        "id": "OWNwOj0tIEOd",
        "outputId": "4f5d7af8-1616-4c49-ab06-2e4505a29655"
      },
      "execution_count": null,
      "outputs": [
        {
          "output_type": "stream",
          "name": "stdout",
          "text": [
            "core.pack.task: Packer task: initialize from command line()\n",
            "core.pack.pack_rotamers: built 509 rotamers at 2 positions.\n",
            "core.pack.interaction_graph.interaction_graph_factory: Instantiating PDInteractionGraph\n",
            "Original Score: 444.33279189719514\n",
            "Score after mutating 124, 123: 437.6057288371545\n"
          ]
        }
      ]
    },
    {
      "cell_type": "markdown",
      "source": [
        "<h3> What if we want more control over the design? </h3>\n",
        "<p> Then we use \"resfiles.\" In these, you can define which atoms are allowed to be mutated, and what mutations are allowed. So, you can restrict a polar residue to other polar residues, if that's important (maybe you're modifying an enzyme and want it to still be functional)\n",
        " <br><br>\n",
        "The default value for all residues in new resfile is NATRO<br>\n",
        "<ul>\n",
        "<li> NATRO - NATive ROtamer (no mutation, no repacking)<br>\n",
        "<li> NATAA - NATive AminoAcid (no mutation, repacking )<br>\n",
        "<li> PIKAA STNQ - PIcK Amino Acids STNQ (mutation and repacking to defined residues-- these don't have to be STNQ)<br>\n",
        "<li> ALLAA - ALL Amino Acids (All amino acids, all repacking)<br>\n",
        "</p>\n"
      ],
      "metadata": {
        "id": "e5gDtPzrIE_J"
      }
    },
    {
      "cell_type": "code",
      "source": [
        "# Code Block #2.4.8\n",
        "\n",
        "save_resfile_filter = pyrosetta.rosetta.protocols.simple_filters.SaveResfileToDiskFilter()\n",
        "save_resfile_filter.resfile_name('my.resfile')\n",
        "all_resis = save_resfile_filter.selected_resis()\n",
        "for r in range(1, pose.total_residue() + 1):\n",
        "  all_resis.append(r)\n",
        "save_resfile_filter.selected_resis_property('NATRO')\n",
        "save_resfile_filter.write_resfile(pose, all_resis)\n",
        "!cat 'my.resfile'\n",
        "\n",
        "# We can also download the file to manually edit in a text editor.\n",
        "# files.download('my.resfile')"
      ],
      "metadata": {
        "colab": {
          "base_uri": "https://localhost:8080/"
        },
        "id": "24-rBRCCIHNs",
        "outputId": "7113bd8e-fe15-419f-fc47-4c2c31173bfa"
      },
      "execution_count": null,
      "outputs": [
        {
          "output_type": "stream",
          "name": "stdout",
          "text": [
            "\n",
            "start\n",
            "1 \tA NATRO\n",
            "2 \tA NATRO\n",
            "3 \tA NATRO\n",
            "4 \tA NATRO\n",
            "5 \tA NATRO\n",
            "6 \tA NATRO\n",
            "7 \tA NATRO\n",
            "8 \tA NATRO\n",
            "9 \tA NATRO\n",
            "10 \tA NATRO\n",
            "11 \tA NATRO\n",
            "12 \tA NATRO\n",
            "13 \tA NATRO\n",
            "14 \tA NATRO\n",
            "15 \tA NATRO\n",
            "16 \tA NATRO\n",
            "17 \tA NATRO\n",
            "18 \tA NATRO\n",
            "19 \tA NATRO\n",
            "20 \tA NATRO\n",
            "21 \tA NATRO\n",
            "22 \tA NATRO\n",
            "23 \tA NATRO\n",
            "24 \tA NATRO\n",
            "25 \tA NATRO\n",
            "26 \tA NATRO\n",
            "27 \tA NATRO\n",
            "28 \tA NATRO\n",
            "29 \tA NATRO\n",
            "30 \tA NATRO\n",
            "31 \tA NATRO\n",
            "32 \tA NATRO\n",
            "33 \tA NATRO\n",
            "34 \tA NATRO\n",
            "35 \tA NATRO\n",
            "36 \tA NATRO\n",
            "37 \tA NATRO\n",
            "38 \tA NATRO\n",
            "39 \tA NATRO\n",
            "40 \tA NATRO\n",
            "41 \tA NATRO\n",
            "42 \tA NATRO\n",
            "43 \tA NATRO\n",
            "44 \tA NATRO\n",
            "45 \tA NATRO\n",
            "46 \tA NATRO\n",
            "47 \tA NATRO\n",
            "48 \tA NATRO\n",
            "49 \tA NATRO\n",
            "50 \tA NATRO\n",
            "51 \tA NATRO\n",
            "52 \tA NATRO\n",
            "53 \tA NATRO\n",
            "54 \tA NATRO\n",
            "55 \tA NATRO\n",
            "56 \tA NATRO\n",
            "57 \tA NATRO\n",
            "58 \tA NATRO\n",
            "59 \tA NATRO\n",
            "60 \tA NATRO\n",
            "61 \tA NATRO\n",
            "62 \tA NATRO\n",
            "63 \tA NATRO\n",
            "64 \tA NATRO\n",
            "65 \tA NATRO\n",
            "66 \tA NATRO\n",
            "67 \tA NATRO\n",
            "68 \tA NATRO\n",
            "69 \tA NATRO\n",
            "70 \tA NATRO\n",
            "71 \tA NATRO\n",
            "72 \tA NATRO\n",
            "73 \tA NATRO\n",
            "74 \tA NATRO\n",
            "75 \tA NATRO\n",
            "76 \tA NATRO\n",
            "77 \tA NATRO\n",
            "78 \tA NATRO\n",
            "79 \tA NATRO\n",
            "80 \tA NATRO\n",
            "81 \tA NATRO\n",
            "82 \tA NATRO\n",
            "83 \tA NATRO\n",
            "84 \tA NATRO\n",
            "85 \tA NATRO\n",
            "86 \tA NATRO\n",
            "87 \tA NATRO\n",
            "88 \tA NATRO\n",
            "89 \tA NATRO\n",
            "90 \tA NATRO\n",
            "91 \tA NATRO\n",
            "92 \tA NATRO\n",
            "93 \tA NATRO\n",
            "94 \tA NATRO\n",
            "95 \tA NATRO\n",
            "96 \tA NATRO\n",
            "97 \tA NATRO\n",
            "98 \tA NATRO\n",
            "99 \tA NATRO\n",
            "100 \tA NATRO\n",
            "101 \tA NATRO\n",
            "102 \tA NATRO\n",
            "103 \tA NATRO\n",
            "104 \tA NATRO\n",
            "105 \tA NATRO\n",
            "106 \tA NATRO\n",
            "107 \tA NATRO\n",
            "108 \tA NATRO\n",
            "109 \tA NATRO\n",
            "110 \tA NATRO\n",
            "111 \tA NATRO\n",
            "112 \tA NATRO\n",
            "113 \tA NATRO\n",
            "114 \tA NATRO\n",
            "115 \tA NATRO\n",
            "116 \tA NATRO\n",
            "117 \tA NATRO\n",
            "118 \tA NATRO\n",
            "119 \tA NATRO\n",
            "120 \tA NATRO\n",
            "121 \tA NATRO\n",
            "122 \tA NATRO\n",
            "123 \tA NATRO\n",
            "124 \tA NATRO\n",
            "125 \tA NATRO\n",
            "126 \tA NATRO\n",
            "127 \tA NATRO\n",
            "128 \tA NATRO\n",
            "129 \tA NATRO\n",
            "130 \tA NATRO\n",
            "131 \tA NATRO\n",
            "132 \tA NATRO\n",
            "133 \tA NATRO\n",
            "134 \tA NATRO\n",
            "135 \tA NATRO\n",
            "136 \tA NATRO\n",
            "137 \tA NATRO\n",
            "138 \tA NATRO\n",
            "139 \tA NATRO\n",
            "140 \tA NATRO\n",
            "141 \tA NATRO\n",
            "142 \tA NATRO\n",
            "143 \tA NATRO\n",
            "144 \tA NATRO\n",
            "145 \tA NATRO\n",
            "146 \tA NATRO\n",
            "147 \tA NATRO\n",
            "148 \tA NATRO\n",
            "149 \tA NATRO\n",
            "150 \tA NATRO\n",
            "151 \tA NATRO\n",
            "152 \tA NATRO\n",
            "153 \tA NATRO\n",
            "154 \tA NATRO\n",
            "155 \tA NATRO\n",
            "156 \tA NATRO\n",
            "157 \tA NATRO\n",
            "158 \tA NATRO\n",
            "159 \tA NATRO\n",
            "160 \tA NATRO\n",
            "161 \tA NATRO\n",
            "162 \tA NATRO\n",
            "163 \tA NATRO\n",
            "164 \tA NATRO\n",
            "165 \tA NATRO\n",
            "166 \tA NATRO\n",
            "167 \tA NATRO\n",
            "168 \tA NATRO\n",
            "169 \tA NATRO\n",
            "170 \tA NATRO\n",
            "171 \tA NATRO\n",
            "1 \tX NATRO\n"
          ]
        }
      ]
    },
    {
      "cell_type": "markdown",
      "source": [
        "<h4> Editing the resfile </h4>\n",
        "<p>\n",
        "Let's limit S89, S101, S123, S139, S147  to uncharged polar residues (STNQ)\n",
        "<br>\n",
        "\n",
        "</p>"
      ],
      "metadata": {
        "id": "DNq2cW_uIPpG"
      }
    },
    {
      "cell_type": "code",
      "source": [
        "# Code Block #2.4.9\n",
        "\n",
        "res_to_mutate = [89, 101, 123, 139, 147]\n",
        "chain = 'A'\n",
        "\n",
        "with open('my.resfile') as file:\n",
        "  with open('new.resfile','w+') as newfile:\n",
        "    for line in file:\n",
        "      try:\n",
        "        if int(line[:4].strip()) in res_to_mutate:\n",
        "          newline = list(line)\n",
        "          i = line.find(chain)\n",
        "          newline[i + 2:] = list('PIKAA STNQ\\n')\n",
        "          newfile.write(\"\".join(newline))\n",
        "        else:\n",
        "          newfile.write(line)\n",
        "      except ValueError:\n",
        "        newfile.write(line)\n",
        "        \n",
        "!cat 'new.resfile'\n"
      ],
      "metadata": {
        "colab": {
          "base_uri": "https://localhost:8080/"
        },
        "id": "ictyAHaWIX3K",
        "outputId": "7790f49f-6237-4a9b-b590-d8acbb63adc0"
      },
      "execution_count": null,
      "outputs": [
        {
          "output_type": "stream",
          "name": "stdout",
          "text": [
            "\n",
            "start\n",
            "1 \tA NATRO\n",
            "2 \tA NATRO\n",
            "3 \tA NATRO\n",
            "4 \tA NATRO\n",
            "5 \tA NATRO\n",
            "6 \tA NATRO\n",
            "7 \tA NATRO\n",
            "8 \tA NATRO\n",
            "9 \tA NATRO\n",
            "10 \tA NATRO\n",
            "11 \tA NATRO\n",
            "12 \tA NATRO\n",
            "13 \tA NATRO\n",
            "14 \tA NATRO\n",
            "15 \tA NATRO\n",
            "16 \tA NATRO\n",
            "17 \tA NATRO\n",
            "18 \tA NATRO\n",
            "19 \tA NATRO\n",
            "20 \tA NATRO\n",
            "21 \tA NATRO\n",
            "22 \tA NATRO\n",
            "23 \tA NATRO\n",
            "24 \tA NATRO\n",
            "25 \tA NATRO\n",
            "26 \tA NATRO\n",
            "27 \tA NATRO\n",
            "28 \tA NATRO\n",
            "29 \tA NATRO\n",
            "30 \tA NATRO\n",
            "31 \tA NATRO\n",
            "32 \tA NATRO\n",
            "33 \tA NATRO\n",
            "34 \tA NATRO\n",
            "35 \tA NATRO\n",
            "36 \tA NATRO\n",
            "37 \tA NATRO\n",
            "38 \tA NATRO\n",
            "39 \tA NATRO\n",
            "40 \tA NATRO\n",
            "41 \tA NATRO\n",
            "42 \tA NATRO\n",
            "43 \tA NATRO\n",
            "44 \tA NATRO\n",
            "45 \tA NATRO\n",
            "46 \tA NATRO\n",
            "47 \tA NATRO\n",
            "48 \tA NATRO\n",
            "49 \tA NATRO\n",
            "50 \tA NATRO\n",
            "51 \tA NATRO\n",
            "52 \tA NATRO\n",
            "53 \tA NATRO\n",
            "54 \tA NATRO\n",
            "55 \tA NATRO\n",
            "56 \tA NATRO\n",
            "57 \tA NATRO\n",
            "58 \tA NATRO\n",
            "59 \tA NATRO\n",
            "60 \tA NATRO\n",
            "61 \tA NATRO\n",
            "62 \tA NATRO\n",
            "63 \tA NATRO\n",
            "64 \tA NATRO\n",
            "65 \tA NATRO\n",
            "66 \tA NATRO\n",
            "67 \tA NATRO\n",
            "68 \tA NATRO\n",
            "69 \tA NATRO\n",
            "70 \tA NATRO\n",
            "71 \tA NATRO\n",
            "72 \tA NATRO\n",
            "73 \tA NATRO\n",
            "74 \tA NATRO\n",
            "75 \tA NATRO\n",
            "76 \tA NATRO\n",
            "77 \tA NATRO\n",
            "78 \tA NATRO\n",
            "79 \tA NATRO\n",
            "80 \tA NATRO\n",
            "81 \tA NATRO\n",
            "82 \tA NATRO\n",
            "83 \tA NATRO\n",
            "84 \tA NATRO\n",
            "85 \tA NATRO\n",
            "86 \tA NATRO\n",
            "87 \tA NATRO\n",
            "88 \tA NATRO\n",
            "89 \tA PIKAA STNQ\n",
            "90 \tA NATRO\n",
            "91 \tA NATRO\n",
            "92 \tA NATRO\n",
            "93 \tA NATRO\n",
            "94 \tA NATRO\n",
            "95 \tA NATRO\n",
            "96 \tA NATRO\n",
            "97 \tA NATRO\n",
            "98 \tA NATRO\n",
            "99 \tA NATRO\n",
            "100 \tA NATRO\n",
            "101 \tA PIKAA STNQ\n",
            "102 \tA NATRO\n",
            "103 \tA NATRO\n",
            "104 \tA NATRO\n",
            "105 \tA NATRO\n",
            "106 \tA NATRO\n",
            "107 \tA NATRO\n",
            "108 \tA NATRO\n",
            "109 \tA NATRO\n",
            "110 \tA NATRO\n",
            "111 \tA NATRO\n",
            "112 \tA NATRO\n",
            "113 \tA NATRO\n",
            "114 \tA NATRO\n",
            "115 \tA NATRO\n",
            "116 \tA NATRO\n",
            "117 \tA NATRO\n",
            "118 \tA NATRO\n",
            "119 \tA NATRO\n",
            "120 \tA NATRO\n",
            "121 \tA NATRO\n",
            "122 \tA NATRO\n",
            "123 \tA PIKAA STNQ\n",
            "124 \tA NATRO\n",
            "125 \tA NATRO\n",
            "126 \tA NATRO\n",
            "127 \tA NATRO\n",
            "128 \tA NATRO\n",
            "129 \tA NATRO\n",
            "130 \tA NATRO\n",
            "131 \tA NATRO\n",
            "132 \tA NATRO\n",
            "133 \tA NATRO\n",
            "134 \tA NATRO\n",
            "135 \tA NATRO\n",
            "136 \tA NATRO\n",
            "137 \tA NATRO\n",
            "138 \tA NATRO\n",
            "139 \tA PIKAA STNQ\n",
            "140 \tA NATRO\n",
            "141 \tA NATRO\n",
            "142 \tA NATRO\n",
            "143 \tA NATRO\n",
            "144 \tA NATRO\n",
            "145 \tA NATRO\n",
            "146 \tA NATRO\n",
            "147 \tA PIKAA STNQ\n",
            "148 \tA NATRO\n",
            "149 \tA NATRO\n",
            "150 \tA NATRO\n",
            "151 \tA NATRO\n",
            "152 \tA NATRO\n",
            "153 \tA NATRO\n",
            "154 \tA NATRO\n",
            "155 \tA NATRO\n",
            "156 \tA NATRO\n",
            "157 \tA NATRO\n",
            "158 \tA NATRO\n",
            "159 \tA NATRO\n",
            "160 \tA NATRO\n",
            "161 \tA NATRO\n",
            "162 \tA NATRO\n",
            "163 \tA NATRO\n",
            "164 \tA NATRO\n",
            "165 \tA NATRO\n",
            "166 \tA NATRO\n",
            "167 \tA NATRO\n",
            "168 \tA NATRO\n",
            "169 \tA NATRO\n",
            "170 \tA NATRO\n",
            "171 \tA NATRO\n",
            "1 \tX NATRO\n"
          ]
        }
      ]
    },
    {
      "cell_type": "markdown",
      "source": [
        "<h3> Sequences </h3>\n",
        "<p>\n",
        "Let's string together multiple movers as we change those 5 residues.\n",
        "</p>"
      ],
      "metadata": {
        "id": "Yp0TCq3ZIYdK"
      }
    },
    {
      "cell_type": "code",
      "source": [
        "# Code Block #2.4.10\n",
        "\n",
        "pose_pack_mover = Pose()\n",
        "pose_pack_mover.assign(pose)\n",
        "pose_pack_mover.pdb_info().name('defined_pack_mover')\n",
        "\n",
        "kT = 1.0\n",
        "mc = MonteCarlo(pose_pack_mover, scorefxn, kT)\n",
        "\n",
        "for i in range(11):\n",
        "    task = rosetta.core.pack.task.TaskFactory.create_packer_task(pose_pack_mover)\n",
        "    rosetta.core.pack.task.parse_resfile(pose_pack_mover, task, 'new.resfile')\n",
        "    packer_task = rosetta.protocols.minimization_packing.PackRotamersMover(scorefxn, task)\n",
        "\n",
        "    min_mover = rosetta.protocols.minimization_packing.MinMover()\n",
        "    mm70150 = MoveMap()\n",
        "    mm70150.set_bb_true_range(70, 150)\n",
        "    min_mover.movemap(mm70150)\n",
        "    min_mover.score_function(scorefxn)\n",
        "\n",
        "    seq_mover = SequenceMover()\n",
        "    seq_mover.add_mover(packer_task)\n",
        "    seq_mover.add_mover(min_mover)\n",
        "\n",
        "    trial_pack_min_mover = TrialMover(seq_mover, mc)\n",
        "\n",
        "    trial_pack_min_mover.apply(pose_pack_mover)\n",
        "    print('Score: %s' % scorefxn(pose_pack_mover))\n",
        "\n",
        "# What residue is at position 123 now?\n",
        "print(pose_pack_mover.residue(123).name())"
      ],
      "metadata": {
        "colab": {
          "base_uri": "https://localhost:8080/"
        },
        "id": "CKJ5fyZRIaif",
        "outputId": "94af3dfb-dd94-4988-9256-1a5ebdb02da8"
      },
      "execution_count": null,
      "outputs": [
        {
          "output_type": "stream",
          "name": "stdout",
          "text": [
            "core.pack.pack_rotamers: built 418 rotamers at 5 positions.\n",
            "core.pack.interaction_graph.interaction_graph_factory: Instantiating PDInteractionGraph\n",
            "Score: 259.8821671138583\n",
            "core.pack.pack_rotamers: built 449 rotamers at 5 positions.\n",
            "core.pack.interaction_graph.interaction_graph_factory: Instantiating PDInteractionGraph\n",
            "Score: 258.16391292773676\n",
            "core.pack.pack_rotamers: built 449 rotamers at 5 positions.\n",
            "core.pack.interaction_graph.interaction_graph_factory: Instantiating PDInteractionGraph\n",
            "Score: 258.1099183670231\n",
            "core.pack.pack_rotamers: built 449 rotamers at 5 positions.\n",
            "core.pack.interaction_graph.interaction_graph_factory: Instantiating PDInteractionGraph\n",
            "Score: 258.1001658139836\n",
            "core.pack.pack_rotamers: built 449 rotamers at 5 positions.\n",
            "core.pack.interaction_graph.interaction_graph_factory: Instantiating PDInteractionGraph\n",
            "Score: 258.098885466933\n",
            "core.pack.pack_rotamers: built 449 rotamers at 5 positions.\n",
            "core.pack.interaction_graph.interaction_graph_factory: Instantiating PDInteractionGraph\n",
            "Score: 258.0959784113857\n",
            "core.pack.pack_rotamers: built 449 rotamers at 5 positions.\n",
            "core.pack.interaction_graph.interaction_graph_factory: Instantiating PDInteractionGraph\n",
            "Score: 258.09386917341425\n",
            "core.pack.pack_rotamers: built 449 rotamers at 5 positions.\n",
            "core.pack.interaction_graph.interaction_graph_factory: Instantiating PDInteractionGraph\n",
            "Score: 258.09260192392844\n",
            "core.pack.pack_rotamers: built 449 rotamers at 5 positions.\n",
            "core.pack.interaction_graph.interaction_graph_factory: Instantiating PDInteractionGraph\n",
            "Score: 258.09032983919207\n",
            "core.pack.pack_rotamers: built 449 rotamers at 5 positions.\n",
            "core.pack.interaction_graph.interaction_graph_factory: Instantiating PDInteractionGraph\n",
            "Score: 258.08833188608173\n",
            "core.pack.pack_rotamers: built 449 rotamers at 5 positions.\n",
            "core.pack.interaction_graph.interaction_graph_factory: Instantiating PDInteractionGraph\n",
            "Score: 258.0870795997692\n",
            "SER\n"
          ]
        }
      ]
    },
    {
      "cell_type": "markdown",
      "source": [
        "<h4> RepeatMover (may be buggy, for example with PackMover)</h4>\n",
        "<p> I'd just use a for loop instead, but here's an example using one </p>\n",
        "<h4> Finally, let's download a pdb file of our altered protein.</h4>\n",
        "<p>We can visualize our efforts by loading this file in PyMol. </p>"
      ],
      "metadata": {
        "id": "as1pl6etIcTw"
      }
    },
    {
      "cell_type": "code",
      "source": [
        "# Code Block #2.4.11\n",
        "\n",
        "# Repeat Mover Example\n",
        "\n",
        "pose_repeat_small_mover = Pose()\n",
        "pose_repeat_small_mover.assign(pose)\n",
        "pose_repeat_small_mover.pdb_info().name('repeat_small_mover')\n",
        "\n",
        "kT = 1.0\n",
        "movemap = MoveMap()\n",
        "movemap.set_bb(True)\n",
        "small_mover = rosetta.protocols.simple_moves.SmallMover(movemap, kT, 1)\n",
        "\n",
        "mc = MonteCarlo(pose_repeat_small_mover, scorefxn, kT)\n",
        "trial_mover = TrialMover(small_mover, mc)\n",
        "\n",
        "n = 20\n",
        "repeat_mover = RepeatMover(trial_mover, n)\n",
        "\n",
        "repeat_mover.apply(pose_repeat_small_mover)\n",
        "\n",
        "print('original: %s' % scorefxn(pose))\n",
        "print('new: %s' % scorefxn(pose_repeat_small_mover))\n",
        "\n",
        "# Downloading a PDB file\n",
        "\n",
        "pose_repeat_small_mover.dump_pdb('repeat_small_mover.pdb')\n",
        "files.download('repeat_small_mover.pdb')"
      ],
      "metadata": {
        "colab": {
          "base_uri": "https://localhost:8080/",
          "height": 98
        },
        "id": "KbY0UUpDIeKX",
        "outputId": "4b4ffa43-7fe8-4311-e2bd-2b169f1d9b7e"
      },
      "execution_count": null,
      "outputs": [
        {
          "output_type": "stream",
          "name": "stdout",
          "text": [
            "core.scoring.ramachandran: shapovalov_lib::shap_rama_smooth_level of 4( aka highest_smooth ) got activated.\n",
            "basic.io.database: Database file opened: scoring/score_functions/rama/shapovalov/kappa25/all.ramaProb\n",
            "original: 444.33279189719514\n",
            "new: 423.9589607330572\n"
          ]
        },
        {
          "output_type": "display_data",
          "data": {
            "text/plain": [
              "<IPython.core.display.Javascript object>"
            ],
            "application/javascript": [
              "\n",
              "    async function download(id, filename, size) {\n",
              "      if (!google.colab.kernel.accessAllowed) {\n",
              "        return;\n",
              "      }\n",
              "      const div = document.createElement('div');\n",
              "      const label = document.createElement('label');\n",
              "      label.textContent = `Downloading \"${filename}\": `;\n",
              "      div.appendChild(label);\n",
              "      const progress = document.createElement('progress');\n",
              "      progress.max = size;\n",
              "      div.appendChild(progress);\n",
              "      document.body.appendChild(div);\n",
              "\n",
              "      const buffers = [];\n",
              "      let downloaded = 0;\n",
              "\n",
              "      const channel = await google.colab.kernel.comms.open(id);\n",
              "      // Send a message to notify the kernel that we're ready.\n",
              "      channel.send({})\n",
              "\n",
              "      for await (const message of channel.messages) {\n",
              "        // Send a message to notify the kernel that we're ready.\n",
              "        channel.send({})\n",
              "        if (message.buffers) {\n",
              "          for (const buffer of message.buffers) {\n",
              "            buffers.push(buffer);\n",
              "            downloaded += buffer.byteLength;\n",
              "            progress.value = downloaded;\n",
              "          }\n",
              "        }\n",
              "      }\n",
              "      const blob = new Blob(buffers, {type: 'application/binary'});\n",
              "      const a = document.createElement('a');\n",
              "      a.href = window.URL.createObjectURL(blob);\n",
              "      a.download = filename;\n",
              "      div.appendChild(a);\n",
              "      a.click();\n",
              "      div.remove();\n",
              "    }\n",
              "  "
            ]
          },
          "metadata": {}
        },
        {
          "output_type": "display_data",
          "data": {
            "text/plain": [
              "<IPython.core.display.Javascript object>"
            ],
            "application/javascript": [
              "download(\"download_5afa6a01-7879-4342-8f1f-e92ef8b89f28\", \"repeat_small_mover.pdb\", 259456)"
            ]
          },
          "metadata": {}
        }
      ]
    },
    {
      "cell_type": "markdown",
      "source": [
        "# **3. Review**\n",
        "<p> Here's what you've done so far: </p>\n",
        "<ul>\n",
        "    <li> <b> Loaded a PDB file </b> into PyRosetta\n",
        "    <li> <b>Generated PyRosetta parameters </b>for a non-standard ligand, using Babel and mol2params.py\n",
        "    <li> <b>Repacked and refined Structures </b> using MinMover and FastRelax\n",
        "    <li> <b> Mutated residues </b> using a PackMover\n",
        "    <li> <b> Made your own routines </b> using Sequence and TrialMovers that accept movements based on a Metropolis criterion\n",
        "     <li> <b> Downloaded a PDB file </b> that can be visualized and shared\n",
        "</ul>"
      ],
      "metadata": {
        "id": "gNoAwWLFIjWt"
      }
    },
    {
      "cell_type": "markdown",
      "source": [
        "<h1> What you can look to improve? </h1>\n",
        "<ul>\n",
        "<li>Can the conformation of your ligand change?\n",
        "<li>What's a good routine for mutating residues? Why?\n",
        "<li>What's happening to secondary structure during these movements?\n",
        "<li>Hydrogen bonds?\n",
        "<li>How do you know when to stop mutating/changing?\n",
        "<li>What sort of pretty plots could you generate to show what's going on here? (both with PyMol and without)\n",
        "</ul>"
      ],
      "metadata": {
        "id": "zJDBw6YsInAF"
      }
    }
  ]
}